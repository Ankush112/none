{
  "nbformat": 4,
  "nbformat_minor": 0,
  "metadata": {
    "colab": {
      "provenance": [],
      "authorship_tag": "ABX9TyM0u6dUb59QvHEV4Xuz7yvS",
      "include_colab_link": true
    },
    "kernelspec": {
      "name": "python3",
      "display_name": "Python 3"
    },
    "language_info": {
      "name": "python"
    }
  },
  "cells": [
    {
      "cell_type": "markdown",
      "metadata": {
        "id": "view-in-github",
        "colab_type": "text"
      },
      "source": [
        "<a href=\"https://colab.research.google.com/github/Ankush112/none/blob/main/DL_Assignments.ipynb\" target=\"_parent\"><img src=\"https://colab.research.google.com/assets/colab-badge.svg\" alt=\"Open In Colab\"/></a>"
      ]
    },
    {
      "cell_type": "markdown",
      "source": [
        "***Assignment 1***"
      ],
      "metadata": {
        "id": "5uh_ekZTAndz"
      }
    },
    {
      "cell_type": "code",
      "execution_count": null,
      "metadata": {
        "id": "B-L2oHp76oA8"
      },
      "outputs": [],
      "source": [
        "import pandas as pd\n",
        "import matplotlib.pyplot as plt"
      ]
    },
    {
      "cell_type": "code",
      "source": [
        "# Load the Boston Housing dataset\n",
        "df = pd.read_csv('/content/HousingData.csv')\n",
        "df.head(10)"
      ],
      "metadata": {
        "id": "U1AF4fj98gIc",
        "colab": {
          "base_uri": "https://localhost:8080/",
          "height": 363
        },
        "outputId": "2cac28d1-b386-47f8-9ab2-e3259722a908"
      },
      "execution_count": null,
      "outputs": [
        {
          "output_type": "execute_result",
          "data": {
            "text/plain": [
              "      CRIM    ZN  INDUS  CHAS    NOX     RM    AGE     DIS  RAD  TAX  PTRATIO  \\\n",
              "0  0.00632  18.0   2.31   0.0  0.538  6.575   65.2  4.0900    1  296     15.3   \n",
              "1  0.02731   0.0   7.07   0.0  0.469  6.421   78.9  4.9671    2  242     17.8   \n",
              "2  0.02729   0.0   7.07   0.0  0.469  7.185   61.1  4.9671    2  242     17.8   \n",
              "3  0.03237   0.0   2.18   0.0  0.458  6.998   45.8  6.0622    3  222     18.7   \n",
              "4  0.06905   0.0   2.18   0.0  0.458  7.147   54.2  6.0622    3  222     18.7   \n",
              "5  0.02985   0.0   2.18   0.0  0.458  6.430   58.7  6.0622    3  222     18.7   \n",
              "6  0.08829  12.5   7.87   NaN  0.524  6.012   66.6  5.5605    5  311     15.2   \n",
              "7  0.14455  12.5   7.87   0.0  0.524  6.172   96.1  5.9505    5  311     15.2   \n",
              "8  0.21124  12.5   7.87   0.0  0.524  5.631  100.0  6.0821    5  311     15.2   \n",
              "9  0.17004  12.5   7.87   NaN  0.524  6.004   85.9  6.5921    5  311     15.2   \n",
              "\n",
              "        B  LSTAT  MEDV  \n",
              "0  396.90   4.98  24.0  \n",
              "1  396.90   9.14  21.6  \n",
              "2  392.83   4.03  34.7  \n",
              "3  394.63   2.94  33.4  \n",
              "4  396.90    NaN  36.2  \n",
              "5  394.12   5.21  28.7  \n",
              "6  395.60  12.43  22.9  \n",
              "7  396.90  19.15  27.1  \n",
              "8  386.63  29.93  16.5  \n",
              "9  386.71  17.10  18.9  "
            ],
            "text/html": [
              "\n",
              "  <div id=\"df-db5c94cf-c8de-47e3-9bcb-679f42855c47\">\n",
              "    <div class=\"colab-df-container\">\n",
              "      <div>\n",
              "<style scoped>\n",
              "    .dataframe tbody tr th:only-of-type {\n",
              "        vertical-align: middle;\n",
              "    }\n",
              "\n",
              "    .dataframe tbody tr th {\n",
              "        vertical-align: top;\n",
              "    }\n",
              "\n",
              "    .dataframe thead th {\n",
              "        text-align: right;\n",
              "    }\n",
              "</style>\n",
              "<table border=\"1\" class=\"dataframe\">\n",
              "  <thead>\n",
              "    <tr style=\"text-align: right;\">\n",
              "      <th></th>\n",
              "      <th>CRIM</th>\n",
              "      <th>ZN</th>\n",
              "      <th>INDUS</th>\n",
              "      <th>CHAS</th>\n",
              "      <th>NOX</th>\n",
              "      <th>RM</th>\n",
              "      <th>AGE</th>\n",
              "      <th>DIS</th>\n",
              "      <th>RAD</th>\n",
              "      <th>TAX</th>\n",
              "      <th>PTRATIO</th>\n",
              "      <th>B</th>\n",
              "      <th>LSTAT</th>\n",
              "      <th>MEDV</th>\n",
              "    </tr>\n",
              "  </thead>\n",
              "  <tbody>\n",
              "    <tr>\n",
              "      <th>0</th>\n",
              "      <td>0.00632</td>\n",
              "      <td>18.0</td>\n",
              "      <td>2.31</td>\n",
              "      <td>0.0</td>\n",
              "      <td>0.538</td>\n",
              "      <td>6.575</td>\n",
              "      <td>65.2</td>\n",
              "      <td>4.0900</td>\n",
              "      <td>1</td>\n",
              "      <td>296</td>\n",
              "      <td>15.3</td>\n",
              "      <td>396.90</td>\n",
              "      <td>4.98</td>\n",
              "      <td>24.0</td>\n",
              "    </tr>\n",
              "    <tr>\n",
              "      <th>1</th>\n",
              "      <td>0.02731</td>\n",
              "      <td>0.0</td>\n",
              "      <td>7.07</td>\n",
              "      <td>0.0</td>\n",
              "      <td>0.469</td>\n",
              "      <td>6.421</td>\n",
              "      <td>78.9</td>\n",
              "      <td>4.9671</td>\n",
              "      <td>2</td>\n",
              "      <td>242</td>\n",
              "      <td>17.8</td>\n",
              "      <td>396.90</td>\n",
              "      <td>9.14</td>\n",
              "      <td>21.6</td>\n",
              "    </tr>\n",
              "    <tr>\n",
              "      <th>2</th>\n",
              "      <td>0.02729</td>\n",
              "      <td>0.0</td>\n",
              "      <td>7.07</td>\n",
              "      <td>0.0</td>\n",
              "      <td>0.469</td>\n",
              "      <td>7.185</td>\n",
              "      <td>61.1</td>\n",
              "      <td>4.9671</td>\n",
              "      <td>2</td>\n",
              "      <td>242</td>\n",
              "      <td>17.8</td>\n",
              "      <td>392.83</td>\n",
              "      <td>4.03</td>\n",
              "      <td>34.7</td>\n",
              "    </tr>\n",
              "    <tr>\n",
              "      <th>3</th>\n",
              "      <td>0.03237</td>\n",
              "      <td>0.0</td>\n",
              "      <td>2.18</td>\n",
              "      <td>0.0</td>\n",
              "      <td>0.458</td>\n",
              "      <td>6.998</td>\n",
              "      <td>45.8</td>\n",
              "      <td>6.0622</td>\n",
              "      <td>3</td>\n",
              "      <td>222</td>\n",
              "      <td>18.7</td>\n",
              "      <td>394.63</td>\n",
              "      <td>2.94</td>\n",
              "      <td>33.4</td>\n",
              "    </tr>\n",
              "    <tr>\n",
              "      <th>4</th>\n",
              "      <td>0.06905</td>\n",
              "      <td>0.0</td>\n",
              "      <td>2.18</td>\n",
              "      <td>0.0</td>\n",
              "      <td>0.458</td>\n",
              "      <td>7.147</td>\n",
              "      <td>54.2</td>\n",
              "      <td>6.0622</td>\n",
              "      <td>3</td>\n",
              "      <td>222</td>\n",
              "      <td>18.7</td>\n",
              "      <td>396.90</td>\n",
              "      <td>NaN</td>\n",
              "      <td>36.2</td>\n",
              "    </tr>\n",
              "    <tr>\n",
              "      <th>5</th>\n",
              "      <td>0.02985</td>\n",
              "      <td>0.0</td>\n",
              "      <td>2.18</td>\n",
              "      <td>0.0</td>\n",
              "      <td>0.458</td>\n",
              "      <td>6.430</td>\n",
              "      <td>58.7</td>\n",
              "      <td>6.0622</td>\n",
              "      <td>3</td>\n",
              "      <td>222</td>\n",
              "      <td>18.7</td>\n",
              "      <td>394.12</td>\n",
              "      <td>5.21</td>\n",
              "      <td>28.7</td>\n",
              "    </tr>\n",
              "    <tr>\n",
              "      <th>6</th>\n",
              "      <td>0.08829</td>\n",
              "      <td>12.5</td>\n",
              "      <td>7.87</td>\n",
              "      <td>NaN</td>\n",
              "      <td>0.524</td>\n",
              "      <td>6.012</td>\n",
              "      <td>66.6</td>\n",
              "      <td>5.5605</td>\n",
              "      <td>5</td>\n",
              "      <td>311</td>\n",
              "      <td>15.2</td>\n",
              "      <td>395.60</td>\n",
              "      <td>12.43</td>\n",
              "      <td>22.9</td>\n",
              "    </tr>\n",
              "    <tr>\n",
              "      <th>7</th>\n",
              "      <td>0.14455</td>\n",
              "      <td>12.5</td>\n",
              "      <td>7.87</td>\n",
              "      <td>0.0</td>\n",
              "      <td>0.524</td>\n",
              "      <td>6.172</td>\n",
              "      <td>96.1</td>\n",
              "      <td>5.9505</td>\n",
              "      <td>5</td>\n",
              "      <td>311</td>\n",
              "      <td>15.2</td>\n",
              "      <td>396.90</td>\n",
              "      <td>19.15</td>\n",
              "      <td>27.1</td>\n",
              "    </tr>\n",
              "    <tr>\n",
              "      <th>8</th>\n",
              "      <td>0.21124</td>\n",
              "      <td>12.5</td>\n",
              "      <td>7.87</td>\n",
              "      <td>0.0</td>\n",
              "      <td>0.524</td>\n",
              "      <td>5.631</td>\n",
              "      <td>100.0</td>\n",
              "      <td>6.0821</td>\n",
              "      <td>5</td>\n",
              "      <td>311</td>\n",
              "      <td>15.2</td>\n",
              "      <td>386.63</td>\n",
              "      <td>29.93</td>\n",
              "      <td>16.5</td>\n",
              "    </tr>\n",
              "    <tr>\n",
              "      <th>9</th>\n",
              "      <td>0.17004</td>\n",
              "      <td>12.5</td>\n",
              "      <td>7.87</td>\n",
              "      <td>NaN</td>\n",
              "      <td>0.524</td>\n",
              "      <td>6.004</td>\n",
              "      <td>85.9</td>\n",
              "      <td>6.5921</td>\n",
              "      <td>5</td>\n",
              "      <td>311</td>\n",
              "      <td>15.2</td>\n",
              "      <td>386.71</td>\n",
              "      <td>17.10</td>\n",
              "      <td>18.9</td>\n",
              "    </tr>\n",
              "  </tbody>\n",
              "</table>\n",
              "</div>\n",
              "      <button class=\"colab-df-convert\" onclick=\"convertToInteractive('df-db5c94cf-c8de-47e3-9bcb-679f42855c47')\"\n",
              "              title=\"Convert this dataframe to an interactive table.\"\n",
              "              style=\"display:none;\">\n",
              "        \n",
              "  <svg xmlns=\"http://www.w3.org/2000/svg\" height=\"24px\"viewBox=\"0 0 24 24\"\n",
              "       width=\"24px\">\n",
              "    <path d=\"M0 0h24v24H0V0z\" fill=\"none\"/>\n",
              "    <path d=\"M18.56 5.44l.94 2.06.94-2.06 2.06-.94-2.06-.94-.94-2.06-.94 2.06-2.06.94zm-11 1L8.5 8.5l.94-2.06 2.06-.94-2.06-.94L8.5 2.5l-.94 2.06-2.06.94zm10 10l.94 2.06.94-2.06 2.06-.94-2.06-.94-.94-2.06-.94 2.06-2.06.94z\"/><path d=\"M17.41 7.96l-1.37-1.37c-.4-.4-.92-.59-1.43-.59-.52 0-1.04.2-1.43.59L10.3 9.45l-7.72 7.72c-.78.78-.78 2.05 0 2.83L4 21.41c.39.39.9.59 1.41.59.51 0 1.02-.2 1.41-.59l7.78-7.78 2.81-2.81c.8-.78.8-2.07 0-2.86zM5.41 20L4 18.59l7.72-7.72 1.47 1.35L5.41 20z\"/>\n",
              "  </svg>\n",
              "      </button>\n",
              "      \n",
              "  <style>\n",
              "    .colab-df-container {\n",
              "      display:flex;\n",
              "      flex-wrap:wrap;\n",
              "      gap: 12px;\n",
              "    }\n",
              "\n",
              "    .colab-df-convert {\n",
              "      background-color: #E8F0FE;\n",
              "      border: none;\n",
              "      border-radius: 50%;\n",
              "      cursor: pointer;\n",
              "      display: none;\n",
              "      fill: #1967D2;\n",
              "      height: 32px;\n",
              "      padding: 0 0 0 0;\n",
              "      width: 32px;\n",
              "    }\n",
              "\n",
              "    .colab-df-convert:hover {\n",
              "      background-color: #E2EBFA;\n",
              "      box-shadow: 0px 1px 2px rgba(60, 64, 67, 0.3), 0px 1px 3px 1px rgba(60, 64, 67, 0.15);\n",
              "      fill: #174EA6;\n",
              "    }\n",
              "\n",
              "    [theme=dark] .colab-df-convert {\n",
              "      background-color: #3B4455;\n",
              "      fill: #D2E3FC;\n",
              "    }\n",
              "\n",
              "    [theme=dark] .colab-df-convert:hover {\n",
              "      background-color: #434B5C;\n",
              "      box-shadow: 0px 1px 3px 1px rgba(0, 0, 0, 0.15);\n",
              "      filter: drop-shadow(0px 1px 2px rgba(0, 0, 0, 0.3));\n",
              "      fill: #FFFFFF;\n",
              "    }\n",
              "  </style>\n",
              "\n",
              "      <script>\n",
              "        const buttonEl =\n",
              "          document.querySelector('#df-db5c94cf-c8de-47e3-9bcb-679f42855c47 button.colab-df-convert');\n",
              "        buttonEl.style.display =\n",
              "          google.colab.kernel.accessAllowed ? 'block' : 'none';\n",
              "\n",
              "        async function convertToInteractive(key) {\n",
              "          const element = document.querySelector('#df-db5c94cf-c8de-47e3-9bcb-679f42855c47');\n",
              "          const dataTable =\n",
              "            await google.colab.kernel.invokeFunction('convertToInteractive',\n",
              "                                                     [key], {});\n",
              "          if (!dataTable) return;\n",
              "\n",
              "          const docLinkHtml = 'Like what you see? Visit the ' +\n",
              "            '<a target=\"_blank\" href=https://colab.research.google.com/notebooks/data_table.ipynb>data table notebook</a>'\n",
              "            + ' to learn more about interactive tables.';\n",
              "          element.innerHTML = '';\n",
              "          dataTable['output_type'] = 'display_data';\n",
              "          await google.colab.output.renderOutput(dataTable, element);\n",
              "          const docLink = document.createElement('div');\n",
              "          docLink.innerHTML = docLinkHtml;\n",
              "          element.appendChild(docLink);\n",
              "        }\n",
              "      </script>\n",
              "    </div>\n",
              "  </div>\n",
              "  "
            ]
          },
          "metadata": {},
          "execution_count": 11
        }
      ]
    },
    {
      "cell_type": "code",
      "source": [
        "df.info()"
      ],
      "metadata": {
        "colab": {
          "base_uri": "https://localhost:8080/"
        },
        "id": "T58OvBzuBFlb",
        "outputId": "dbdb9e42-a7ed-43a7-87f8-dd6bc6220728"
      },
      "execution_count": null,
      "outputs": [
        {
          "output_type": "stream",
          "name": "stdout",
          "text": [
            "<class 'pandas.core.frame.DataFrame'>\n",
            "RangeIndex: 506 entries, 0 to 505\n",
            "Data columns (total 14 columns):\n",
            " #   Column   Non-Null Count  Dtype  \n",
            "---  ------   --------------  -----  \n",
            " 0   CRIM     486 non-null    float64\n",
            " 1   ZN       486 non-null    float64\n",
            " 2   INDUS    486 non-null    float64\n",
            " 3   CHAS     486 non-null    float64\n",
            " 4   NOX      506 non-null    float64\n",
            " 5   RM       506 non-null    float64\n",
            " 6   AGE      486 non-null    float64\n",
            " 7   DIS      506 non-null    float64\n",
            " 8   RAD      506 non-null    int64  \n",
            " 9   TAX      506 non-null    int64  \n",
            " 10  PTRATIO  506 non-null    float64\n",
            " 11  B        506 non-null    float64\n",
            " 12  LSTAT    486 non-null    float64\n",
            " 13  MEDV     506 non-null    float64\n",
            "dtypes: float64(12), int64(2)\n",
            "memory usage: 55.5 KB\n"
          ]
        }
      ]
    },
    {
      "cell_type": "code",
      "source": [
        "df.shape"
      ],
      "metadata": {
        "colab": {
          "base_uri": "https://localhost:8080/"
        },
        "id": "gelaeZW6ZvKa",
        "outputId": "d1fd81f1-9517-4dc7-ebdc-6424aacca625"
      },
      "execution_count": null,
      "outputs": [
        {
          "output_type": "execute_result",
          "data": {
            "text/plain": [
              "(506, 14)"
            ]
          },
          "metadata": {},
          "execution_count": 13
        }
      ]
    },
    {
      "cell_type": "code",
      "source": [
        "df.isnull().sum()"
      ],
      "metadata": {
        "colab": {
          "base_uri": "https://localhost:8080/"
        },
        "id": "LV1cUu5Y8lXo",
        "outputId": "25709291-4654-425a-fed7-4a2cc4690997"
      },
      "execution_count": null,
      "outputs": [
        {
          "output_type": "execute_result",
          "data": {
            "text/plain": [
              "CRIM       20\n",
              "ZN         20\n",
              "INDUS      20\n",
              "CHAS       20\n",
              "NOX         0\n",
              "RM          0\n",
              "AGE        20\n",
              "DIS         0\n",
              "RAD         0\n",
              "TAX         0\n",
              "PTRATIO     0\n",
              "B           0\n",
              "LSTAT      20\n",
              "MEDV        0\n",
              "dtype: int64"
            ]
          },
          "metadata": {},
          "execution_count": 14
        }
      ]
    },
    {
      "cell_type": "code",
      "source": [
        "df = df.dropna()"
      ],
      "metadata": {
        "id": "clT9GecxDUyz"
      },
      "execution_count": null,
      "outputs": []
    },
    {
      "cell_type": "code",
      "source": [
        "df.isnull().sum()"
      ],
      "metadata": {
        "colab": {
          "base_uri": "https://localhost:8080/"
        },
        "id": "9EwQ3FDgDXp5",
        "outputId": "f23cffe1-49c0-435f-dce7-94ad6fcc47ba"
      },
      "execution_count": null,
      "outputs": [
        {
          "output_type": "execute_result",
          "data": {
            "text/plain": [
              "CRIM       0\n",
              "ZN         0\n",
              "INDUS      0\n",
              "CHAS       0\n",
              "NOX        0\n",
              "RM         0\n",
              "AGE        0\n",
              "DIS        0\n",
              "RAD        0\n",
              "TAX        0\n",
              "PTRATIO    0\n",
              "B          0\n",
              "LSTAT      0\n",
              "MEDV       0\n",
              "dtype: int64"
            ]
          },
          "metadata": {},
          "execution_count": 8
        }
      ]
    },
    {
      "cell_type": "code",
      "source": [
        "df.shape"
      ],
      "metadata": {
        "colab": {
          "base_uri": "https://localhost:8080/"
        },
        "id": "Yx5btwyiZXtz",
        "outputId": "a9e216b0-f2cf-433e-9cfa-31b8752bc498"
      },
      "execution_count": null,
      "outputs": [
        {
          "output_type": "execute_result",
          "data": {
            "text/plain": [
              "(394, 14)"
            ]
          },
          "metadata": {},
          "execution_count": 9
        }
      ]
    },
    {
      "cell_type": "markdown",
      "source": [
        "Checking correlation with target variable MEDV"
      ],
      "metadata": {
        "id": "nJKl50n8BhJg"
      }
    },
    {
      "cell_type": "code",
      "source": [
        "df.corr()['MEDV'].sort_values()"
      ],
      "metadata": {
        "colab": {
          "base_uri": "https://localhost:8080/"
        },
        "id": "6pFHDHlCBdtL",
        "outputId": "9471bbd1-8ec8-47a2-c5a5-49a08a776234"
      },
      "execution_count": null,
      "outputs": [
        {
          "output_type": "execute_result",
          "data": {
            "text/plain": [
              "LSTAT     -0.743450\n",
              "PTRATIO   -0.543809\n",
              "INDUS     -0.510829\n",
              "TAX       -0.508864\n",
              "NOX       -0.459054\n",
              "RAD       -0.416638\n",
              "AGE       -0.407470\n",
              "CRIM      -0.397230\n",
              "CHAS       0.173701\n",
              "DIS        0.279547\n",
              "B          0.347256\n",
              "ZN         0.406822\n",
              "RM         0.723951\n",
              "MEDV       1.000000\n",
              "Name: MEDV, dtype: float64"
            ]
          },
          "metadata": {},
          "execution_count": 36
        }
      ]
    },
    {
      "cell_type": "code",
      "source": [
        "X = df.loc[:,['LSTAT','RM']]\n",
        "Y = df.loc[:,\"MEDV\"]\n",
        "X.shape,Y.shape"
      ],
      "metadata": {
        "colab": {
          "base_uri": "https://localhost:8080/"
        },
        "id": "bu968bmXBuI5",
        "outputId": "5b2ec001-c39e-4a5e-91d1-bcb953a19138"
      },
      "execution_count": null,
      "outputs": [
        {
          "output_type": "execute_result",
          "data": {
            "text/plain": [
              "((394, 2), (394,))"
            ]
          },
          "metadata": {},
          "execution_count": 55
        }
      ]
    },
    {
      "cell_type": "code",
      "source": [
        "from sklearn.model_selection import train_test_split\n",
        "x_train,x_test,y_train,y_test = train_test_split(X,Y,test_size=0.25,random_state=10)\n"
      ],
      "metadata": {
        "id": "du3kv1lgB3DD"
      },
      "execution_count": null,
      "outputs": []
    },
    {
      "cell_type": "markdown",
      "source": [
        "Normalizing Training and Testing Dataset"
      ],
      "metadata": {
        "id": "nSCaB65uCDyu"
      }
    },
    {
      "cell_type": "code",
      "source": [
        "from sklearn.preprocessing import StandardScaler"
      ],
      "metadata": {
        "id": "FcHfdDBWCDGK"
      },
      "execution_count": null,
      "outputs": []
    },
    {
      "cell_type": "code",
      "source": [
        "scaler = StandardScaler()\n",
        "scaler.fit(x_train)\n"
      ],
      "metadata": {
        "colab": {
          "base_uri": "https://localhost:8080/",
          "height": 74
        },
        "id": "b7bZsNoiCL1Z",
        "outputId": "bb5f5ad8-682b-46e5-fb4c-7fc2097c52d4"
      },
      "execution_count": null,
      "outputs": [
        {
          "output_type": "execute_result",
          "data": {
            "text/plain": [
              "StandardScaler()"
            ],
            "text/html": [
              "<style>#sk-container-id-3 {color: black;background-color: white;}#sk-container-id-3 pre{padding: 0;}#sk-container-id-3 div.sk-toggleable {background-color: white;}#sk-container-id-3 label.sk-toggleable__label {cursor: pointer;display: block;width: 100%;margin-bottom: 0;padding: 0.3em;box-sizing: border-box;text-align: center;}#sk-container-id-3 label.sk-toggleable__label-arrow:before {content: \"▸\";float: left;margin-right: 0.25em;color: #696969;}#sk-container-id-3 label.sk-toggleable__label-arrow:hover:before {color: black;}#sk-container-id-3 div.sk-estimator:hover label.sk-toggleable__label-arrow:before {color: black;}#sk-container-id-3 div.sk-toggleable__content {max-height: 0;max-width: 0;overflow: hidden;text-align: left;background-color: #f0f8ff;}#sk-container-id-3 div.sk-toggleable__content pre {margin: 0.2em;color: black;border-radius: 0.25em;background-color: #f0f8ff;}#sk-container-id-3 input.sk-toggleable__control:checked~div.sk-toggleable__content {max-height: 200px;max-width: 100%;overflow: auto;}#sk-container-id-3 input.sk-toggleable__control:checked~label.sk-toggleable__label-arrow:before {content: \"▾\";}#sk-container-id-3 div.sk-estimator input.sk-toggleable__control:checked~label.sk-toggleable__label {background-color: #d4ebff;}#sk-container-id-3 div.sk-label input.sk-toggleable__control:checked~label.sk-toggleable__label {background-color: #d4ebff;}#sk-container-id-3 input.sk-hidden--visually {border: 0;clip: rect(1px 1px 1px 1px);clip: rect(1px, 1px, 1px, 1px);height: 1px;margin: -1px;overflow: hidden;padding: 0;position: absolute;width: 1px;}#sk-container-id-3 div.sk-estimator {font-family: monospace;background-color: #f0f8ff;border: 1px dotted black;border-radius: 0.25em;box-sizing: border-box;margin-bottom: 0.5em;}#sk-container-id-3 div.sk-estimator:hover {background-color: #d4ebff;}#sk-container-id-3 div.sk-parallel-item::after {content: \"\";width: 100%;border-bottom: 1px solid gray;flex-grow: 1;}#sk-container-id-3 div.sk-label:hover label.sk-toggleable__label {background-color: #d4ebff;}#sk-container-id-3 div.sk-serial::before {content: \"\";position: absolute;border-left: 1px solid gray;box-sizing: border-box;top: 0;bottom: 0;left: 50%;z-index: 0;}#sk-container-id-3 div.sk-serial {display: flex;flex-direction: column;align-items: center;background-color: white;padding-right: 0.2em;padding-left: 0.2em;position: relative;}#sk-container-id-3 div.sk-item {position: relative;z-index: 1;}#sk-container-id-3 div.sk-parallel {display: flex;align-items: stretch;justify-content: center;background-color: white;position: relative;}#sk-container-id-3 div.sk-item::before, #sk-container-id-3 div.sk-parallel-item::before {content: \"\";position: absolute;border-left: 1px solid gray;box-sizing: border-box;top: 0;bottom: 0;left: 50%;z-index: -1;}#sk-container-id-3 div.sk-parallel-item {display: flex;flex-direction: column;z-index: 1;position: relative;background-color: white;}#sk-container-id-3 div.sk-parallel-item:first-child::after {align-self: flex-end;width: 50%;}#sk-container-id-3 div.sk-parallel-item:last-child::after {align-self: flex-start;width: 50%;}#sk-container-id-3 div.sk-parallel-item:only-child::after {width: 0;}#sk-container-id-3 div.sk-dashed-wrapped {border: 1px dashed gray;margin: 0 0.4em 0.5em 0.4em;box-sizing: border-box;padding-bottom: 0.4em;background-color: white;}#sk-container-id-3 div.sk-label label {font-family: monospace;font-weight: bold;display: inline-block;line-height: 1.2em;}#sk-container-id-3 div.sk-label-container {text-align: center;}#sk-container-id-3 div.sk-container {/* jupyter's `normalize.less` sets `[hidden] { display: none; }` but bootstrap.min.css set `[hidden] { display: none !important; }` so we also need the `!important` here to be able to override the default hidden behavior on the sphinx rendered scikit-learn.org. See: https://github.com/scikit-learn/scikit-learn/issues/21755 */display: inline-block !important;position: relative;}#sk-container-id-3 div.sk-text-repr-fallback {display: none;}</style><div id=\"sk-container-id-3\" class=\"sk-top-container\"><div class=\"sk-text-repr-fallback\"><pre>StandardScaler()</pre><b>In a Jupyter environment, please rerun this cell to show the HTML representation or trust the notebook. <br />On GitHub, the HTML representation is unable to render, please try loading this page with nbviewer.org.</b></div><div class=\"sk-container\" hidden><div class=\"sk-item\"><div class=\"sk-estimator sk-toggleable\"><input class=\"sk-toggleable__control sk-hidden--visually\" id=\"sk-estimator-id-3\" type=\"checkbox\" checked><label for=\"sk-estimator-id-3\" class=\"sk-toggleable__label sk-toggleable__label-arrow\">StandardScaler</label><div class=\"sk-toggleable__content\"><pre>StandardScaler()</pre></div></div></div></div></div>"
            ]
          },
          "metadata": {},
          "execution_count": 57
        }
      ]
    },
    {
      "cell_type": "code",
      "source": [
        "x_train = scaler.transform(x_train)\n",
        "x_test = scaler.transform(x_test)"
      ],
      "metadata": {
        "id": "w84_lez3CRfs"
      },
      "execution_count": null,
      "outputs": []
    },
    {
      "cell_type": "markdown",
      "source": [
        "Preparing a model"
      ],
      "metadata": {
        "id": "MrURJar0CYS_"
      }
    },
    {
      "cell_type": "code",
      "source": [
        "from keras.models import Sequential\n",
        "from keras.layers import Dense"
      ],
      "metadata": {
        "id": "eX_pG-Q7CV0b"
      },
      "execution_count": null,
      "outputs": []
    },
    {
      "cell_type": "code",
      "source": [
        "model = Sequential()"
      ],
      "metadata": {
        "id": "9Pb8BytBCd3N"
      },
      "execution_count": null,
      "outputs": []
    },
    {
      "cell_type": "code",
      "source": [
        "model = Sequential()\n",
        "model.add(Dense(128,input_shape=(2,),activation='relu',name='input')) #128 neurons, less neurons so a simple model cuz we dont have much datapoints\n",
        "model.add(Dense(64,activation='relu',name='layer_1'))\n",
        "model.add(Dense(1,activation='linear',name='output')) #predicting only one value so we output neuron, linear so ouput data is not lost\n",
        "model.compile(optimizer='adam', loss='mse', metrics=['mae'])\n",
        "model.summary()"
      ],
      "metadata": {
        "colab": {
          "base_uri": "https://localhost:8080/"
        },
        "id": "z9IH8uxFCjnC",
        "outputId": "c73fb3c7-838d-4faf-a1a8-6e297b52516e"
      },
      "execution_count": null,
      "outputs": [
        {
          "output_type": "stream",
          "name": "stdout",
          "text": [
            "Model: \"sequential_4\"\n",
            "_________________________________________________________________\n",
            " Layer (type)                Output Shape              Param #   \n",
            "=================================================================\n",
            " input (Dense)               (None, 128)               384       \n",
            "                                                                 \n",
            " layer_1 (Dense)             (None, 64)                8256      \n",
            "                                                                 \n",
            " output (Dense)              (None, 1)                 65        \n",
            "                                                                 \n",
            "=================================================================\n",
            "Total params: 8,705\n",
            "Trainable params: 8,705\n",
            "Non-trainable params: 0\n",
            "_________________________________________________________________\n"
          ]
        }
      ]
    },
    {
      "cell_type": "code",
      "source": [
        "model.fit(x_train,y_train,epochs=400,validation_split=0.05)\n"
      ],
      "metadata": {
        "colab": {
          "base_uri": "https://localhost:8080/"
        },
        "id": "EpJRbaNuCoMM",
        "outputId": "68c08d70-9a0c-4096-c179-d9f2c58ac3d0"
      },
      "execution_count": null,
      "outputs": [
        {
          "output_type": "stream",
          "name": "stdout",
          "text": [
            "Epoch 1/400\n",
            "9/9 [==============================] - 1s 33ms/step - loss: 599.7346 - mae: 22.5268 - val_loss: 496.8061 - val_mae: 20.5198\n",
            "Epoch 2/400\n",
            "9/9 [==============================] - 0s 10ms/step - loss: 574.7350 - mae: 22.0059 - val_loss: 472.2086 - val_mae: 19.9420\n",
            "Epoch 3/400\n",
            "9/9 [==============================] - 0s 9ms/step - loss: 547.7824 - mae: 21.4153 - val_loss: 443.7922 - val_mae: 19.2402\n",
            "Epoch 4/400\n",
            "9/9 [==============================] - 0s 9ms/step - loss: 514.8005 - mae: 20.6619 - val_loss: 407.9919 - val_mae: 18.3110\n",
            "Epoch 5/400\n",
            "9/9 [==============================] - 0s 10ms/step - loss: 470.5490 - mae: 19.6376 - val_loss: 362.1727 - val_mae: 17.0436\n",
            "Epoch 6/400\n",
            "9/9 [==============================] - 0s 10ms/step - loss: 414.0244 - mae: 18.3023 - val_loss: 307.2302 - val_mae: 15.4129\n",
            "Epoch 7/400\n",
            "9/9 [==============================] - 0s 10ms/step - loss: 346.5703 - mae: 16.6690 - val_loss: 245.7971 - val_mae: 13.3829\n",
            "Epoch 8/400\n",
            "9/9 [==============================] - 0s 8ms/step - loss: 270.1224 - mae: 14.7115 - val_loss: 183.2071 - val_mae: 11.4674\n",
            "Epoch 9/400\n",
            "9/9 [==============================] - 0s 8ms/step - loss: 192.4918 - mae: 12.4338 - val_loss: 127.0553 - val_mae: 10.0730\n",
            "Epoch 10/400\n",
            "9/9 [==============================] - 0s 8ms/step - loss: 128.2405 - mae: 10.0333 - val_loss: 82.3408 - val_mae: 8.4013\n",
            "Epoch 11/400\n",
            "9/9 [==============================] - 0s 8ms/step - loss: 83.9005 - mae: 7.6405 - val_loss: 51.8166 - val_mae: 6.7407\n",
            "Epoch 12/400\n",
            "9/9 [==============================] - 0s 10ms/step - loss: 59.3971 - mae: 5.9749 - val_loss: 34.6982 - val_mae: 5.2553\n",
            "Epoch 13/400\n",
            "9/9 [==============================] - 0s 9ms/step - loss: 49.9588 - mae: 5.1678 - val_loss: 24.7325 - val_mae: 4.2132\n",
            "Epoch 14/400\n",
            "9/9 [==============================] - 0s 10ms/step - loss: 45.5188 - mae: 4.8217 - val_loss: 18.6010 - val_mae: 3.6009\n",
            "Epoch 15/400\n",
            "9/9 [==============================] - 0s 12ms/step - loss: 41.4234 - mae: 4.5915 - val_loss: 15.1477 - val_mae: 3.2566\n",
            "Epoch 16/400\n",
            "9/9 [==============================] - 0s 10ms/step - loss: 38.2436 - mae: 4.4186 - val_loss: 13.1283 - val_mae: 3.0204\n",
            "Epoch 17/400\n",
            "9/9 [==============================] - 0s 8ms/step - loss: 35.6625 - mae: 4.2905 - val_loss: 11.3938 - val_mae: 2.7840\n",
            "Epoch 18/400\n",
            "9/9 [==============================] - 0s 6ms/step - loss: 33.9345 - mae: 4.1777 - val_loss: 10.4037 - val_mae: 2.6613\n",
            "Epoch 19/400\n",
            "9/9 [==============================] - 0s 6ms/step - loss: 32.7132 - mae: 4.1134 - val_loss: 9.2877 - val_mae: 2.5137\n",
            "Epoch 20/400\n",
            "9/9 [==============================] - 0s 6ms/step - loss: 31.3846 - mae: 4.0344 - val_loss: 8.3611 - val_mae: 2.3705\n",
            "Epoch 21/400\n",
            "9/9 [==============================] - 0s 8ms/step - loss: 30.5078 - mae: 3.9778 - val_loss: 7.6864 - val_mae: 2.2793\n",
            "Epoch 22/400\n",
            "9/9 [==============================] - 0s 7ms/step - loss: 29.8240 - mae: 3.9152 - val_loss: 7.6286 - val_mae: 2.2099\n",
            "Epoch 23/400\n",
            "9/9 [==============================] - 0s 7ms/step - loss: 29.0927 - mae: 3.8565 - val_loss: 7.3411 - val_mae: 2.1623\n",
            "Epoch 24/400\n",
            "9/9 [==============================] - 0s 6ms/step - loss: 28.5507 - mae: 3.8048 - val_loss: 7.4973 - val_mae: 2.1507\n",
            "Epoch 25/400\n",
            "9/9 [==============================] - 0s 6ms/step - loss: 27.9719 - mae: 3.7522 - val_loss: 7.4842 - val_mae: 2.0688\n",
            "Epoch 26/400\n",
            "9/9 [==============================] - 0s 9ms/step - loss: 27.5741 - mae: 3.7178 - val_loss: 7.4725 - val_mae: 2.1329\n",
            "Epoch 27/400\n",
            "9/9 [==============================] - 0s 9ms/step - loss: 27.0893 - mae: 3.6854 - val_loss: 7.2326 - val_mae: 2.0695\n",
            "Epoch 28/400\n",
            "9/9 [==============================] - 0s 5ms/step - loss: 26.6718 - mae: 3.6534 - val_loss: 7.0418 - val_mae: 2.0675\n",
            "Epoch 29/400\n",
            "9/9 [==============================] - 0s 6ms/step - loss: 26.3083 - mae: 3.6340 - val_loss: 6.7393 - val_mae: 2.0462\n",
            "Epoch 30/400\n",
            "9/9 [==============================] - 0s 5ms/step - loss: 25.9902 - mae: 3.6035 - val_loss: 6.8956 - val_mae: 2.0500\n",
            "Epoch 31/400\n",
            "9/9 [==============================] - 0s 6ms/step - loss: 25.6960 - mae: 3.5616 - val_loss: 7.2752 - val_mae: 2.0972\n",
            "Epoch 32/400\n",
            "9/9 [==============================] - 0s 6ms/step - loss: 25.3806 - mae: 3.5341 - val_loss: 7.2083 - val_mae: 2.1223\n",
            "Epoch 33/400\n",
            "9/9 [==============================] - 0s 9ms/step - loss: 25.1889 - mae: 3.5298 - val_loss: 7.0582 - val_mae: 2.0971\n",
            "Epoch 34/400\n",
            "9/9 [==============================] - 0s 6ms/step - loss: 24.9302 - mae: 3.5014 - val_loss: 7.4557 - val_mae: 2.1234\n",
            "Epoch 35/400\n",
            "9/9 [==============================] - 0s 6ms/step - loss: 24.6918 - mae: 3.4720 - val_loss: 7.5096 - val_mae: 2.1083\n",
            "Epoch 36/400\n",
            "9/9 [==============================] - 0s 7ms/step - loss: 24.5022 - mae: 3.4565 - val_loss: 7.9636 - val_mae: 2.1924\n",
            "Epoch 37/400\n",
            "9/9 [==============================] - 0s 7ms/step - loss: 24.4100 - mae: 3.4475 - val_loss: 7.6012 - val_mae: 2.1426\n",
            "Epoch 38/400\n",
            "9/9 [==============================] - 0s 6ms/step - loss: 24.1776 - mae: 3.4260 - val_loss: 7.7427 - val_mae: 2.0982\n",
            "Epoch 39/400\n",
            "9/9 [==============================] - 0s 7ms/step - loss: 24.0062 - mae: 3.4090 - val_loss: 7.7903 - val_mae: 2.0943\n",
            "Epoch 40/400\n",
            "9/9 [==============================] - 0s 6ms/step - loss: 23.9431 - mae: 3.3985 - val_loss: 8.5405 - val_mae: 2.1798\n",
            "Epoch 41/400\n",
            "9/9 [==============================] - 0s 6ms/step - loss: 23.6505 - mae: 3.3635 - val_loss: 8.3071 - val_mae: 2.1607\n",
            "Epoch 42/400\n",
            "9/9 [==============================] - 0s 5ms/step - loss: 23.5384 - mae: 3.3780 - val_loss: 7.9635 - val_mae: 2.0793\n",
            "Epoch 43/400\n",
            "9/9 [==============================] - 0s 5ms/step - loss: 23.5518 - mae: 3.3536 - val_loss: 8.6099 - val_mae: 2.1624\n",
            "Epoch 44/400\n",
            "9/9 [==============================] - 0s 5ms/step - loss: 23.2980 - mae: 3.3305 - val_loss: 8.4818 - val_mae: 2.1438\n",
            "Epoch 45/400\n",
            "9/9 [==============================] - 0s 5ms/step - loss: 23.2412 - mae: 3.3308 - val_loss: 8.5257 - val_mae: 2.1331\n",
            "Epoch 46/400\n",
            "9/9 [==============================] - 0s 5ms/step - loss: 23.1387 - mae: 3.3144 - val_loss: 9.3172 - val_mae: 2.2323\n",
            "Epoch 47/400\n",
            "9/9 [==============================] - 0s 5ms/step - loss: 23.0329 - mae: 3.2982 - val_loss: 8.7775 - val_mae: 2.1296\n",
            "Epoch 48/400\n",
            "9/9 [==============================] - 0s 5ms/step - loss: 22.9570 - mae: 3.2893 - val_loss: 8.9854 - val_mae: 2.1490\n",
            "Epoch 49/400\n",
            "9/9 [==============================] - 0s 6ms/step - loss: 22.8749 - mae: 3.2907 - val_loss: 8.8183 - val_mae: 2.1206\n",
            "Epoch 50/400\n",
            "9/9 [==============================] - 0s 7ms/step - loss: 22.7029 - mae: 3.2709 - val_loss: 9.0993 - val_mae: 2.1478\n",
            "Epoch 51/400\n",
            "9/9 [==============================] - 0s 7ms/step - loss: 22.6529 - mae: 3.2631 - val_loss: 9.2711 - val_mae: 2.1583\n",
            "Epoch 52/400\n",
            "9/9 [==============================] - 0s 6ms/step - loss: 22.5264 - mae: 3.2453 - val_loss: 9.4559 - val_mae: 2.1803\n",
            "Epoch 53/400\n",
            "9/9 [==============================] - 0s 6ms/step - loss: 22.4865 - mae: 3.2339 - val_loss: 9.4745 - val_mae: 2.1751\n",
            "Epoch 54/400\n",
            "9/9 [==============================] - 0s 6ms/step - loss: 22.4126 - mae: 3.2419 - val_loss: 9.0060 - val_mae: 2.1281\n",
            "Epoch 55/400\n",
            "9/9 [==============================] - 0s 8ms/step - loss: 22.3331 - mae: 3.2367 - val_loss: 9.0315 - val_mae: 2.1318\n",
            "Epoch 56/400\n",
            "9/9 [==============================] - 0s 7ms/step - loss: 22.2897 - mae: 3.2190 - val_loss: 9.3640 - val_mae: 2.1630\n",
            "Epoch 57/400\n",
            "9/9 [==============================] - 0s 10ms/step - loss: 22.2270 - mae: 3.2103 - val_loss: 9.5313 - val_mae: 2.1679\n",
            "Epoch 58/400\n",
            "9/9 [==============================] - 0s 5ms/step - loss: 22.1840 - mae: 3.2241 - val_loss: 9.0783 - val_mae: 2.1288\n",
            "Epoch 59/400\n",
            "9/9 [==============================] - 0s 5ms/step - loss: 22.0793 - mae: 3.2180 - val_loss: 9.4137 - val_mae: 2.1583\n",
            "Epoch 60/400\n",
            "9/9 [==============================] - 0s 5ms/step - loss: 22.0575 - mae: 3.1998 - val_loss: 9.8911 - val_mae: 2.1835\n",
            "Epoch 61/400\n",
            "9/9 [==============================] - 0s 6ms/step - loss: 22.0637 - mae: 3.1906 - val_loss: 9.8970 - val_mae: 2.1749\n",
            "Epoch 62/400\n",
            "9/9 [==============================] - 0s 6ms/step - loss: 21.8887 - mae: 3.1824 - val_loss: 9.4297 - val_mae: 2.1489\n",
            "Epoch 63/400\n",
            "9/9 [==============================] - 0s 6ms/step - loss: 21.8561 - mae: 3.1763 - val_loss: 9.7817 - val_mae: 2.1761\n",
            "Epoch 64/400\n",
            "9/9 [==============================] - 0s 5ms/step - loss: 21.8077 - mae: 3.1755 - val_loss: 9.4930 - val_mae: 2.1504\n",
            "Epoch 65/400\n",
            "9/9 [==============================] - 0s 6ms/step - loss: 21.7584 - mae: 3.1681 - val_loss: 9.4826 - val_mae: 2.1521\n",
            "Epoch 66/400\n",
            "9/9 [==============================] - 0s 8ms/step - loss: 21.7114 - mae: 3.1651 - val_loss: 9.5079 - val_mae: 2.1445\n",
            "Epoch 67/400\n",
            "9/9 [==============================] - 0s 6ms/step - loss: 21.6725 - mae: 3.1712 - val_loss: 9.5600 - val_mae: 2.1316\n",
            "Epoch 68/400\n",
            "9/9 [==============================] - 0s 6ms/step - loss: 21.6648 - mae: 3.1575 - val_loss: 9.6092 - val_mae: 2.1334\n",
            "Epoch 69/400\n",
            "9/9 [==============================] - 0s 6ms/step - loss: 21.6098 - mae: 3.1625 - val_loss: 9.2553 - val_mae: 2.1377\n",
            "Epoch 70/400\n",
            "9/9 [==============================] - 0s 6ms/step - loss: 21.5119 - mae: 3.1456 - val_loss: 9.7237 - val_mae: 2.1534\n",
            "Epoch 71/400\n",
            "9/9 [==============================] - 0s 6ms/step - loss: 21.5935 - mae: 3.1270 - val_loss: 10.4875 - val_mae: 2.2067\n",
            "Epoch 72/400\n",
            "9/9 [==============================] - 0s 6ms/step - loss: 21.4820 - mae: 3.1408 - val_loss: 9.3156 - val_mae: 2.1627\n",
            "Epoch 73/400\n",
            "9/9 [==============================] - 0s 8ms/step - loss: 21.4461 - mae: 3.1530 - val_loss: 9.3450 - val_mae: 2.1537\n",
            "Epoch 74/400\n",
            "9/9 [==============================] - 0s 6ms/step - loss: 21.3625 - mae: 3.1277 - val_loss: 9.8003 - val_mae: 2.1742\n",
            "Epoch 75/400\n",
            "9/9 [==============================] - 0s 8ms/step - loss: 21.4027 - mae: 3.1210 - val_loss: 9.4433 - val_mae: 2.1554\n",
            "Epoch 76/400\n",
            "9/9 [==============================] - 0s 5ms/step - loss: 21.3914 - mae: 3.1174 - val_loss: 9.9314 - val_mae: 2.1698\n",
            "Epoch 77/400\n",
            "9/9 [==============================] - 0s 8ms/step - loss: 21.3290 - mae: 3.1356 - val_loss: 9.3123 - val_mae: 2.1927\n",
            "Epoch 78/400\n",
            "9/9 [==============================] - 0s 6ms/step - loss: 21.4055 - mae: 3.1413 - val_loss: 9.5963 - val_mae: 2.1482\n",
            "Epoch 79/400\n",
            "9/9 [==============================] - 0s 6ms/step - loss: 21.2309 - mae: 3.1095 - val_loss: 9.8230 - val_mae: 2.1886\n",
            "Epoch 80/400\n",
            "9/9 [==============================] - 0s 6ms/step - loss: 21.2297 - mae: 3.0908 - val_loss: 9.9208 - val_mae: 2.2026\n",
            "Epoch 81/400\n",
            "9/9 [==============================] - 0s 8ms/step - loss: 21.1677 - mae: 3.0949 - val_loss: 9.5260 - val_mae: 2.1830\n",
            "Epoch 82/400\n",
            "9/9 [==============================] - 0s 8ms/step - loss: 21.3501 - mae: 3.1262 - val_loss: 9.5118 - val_mae: 2.1722\n",
            "Epoch 83/400\n",
            "9/9 [==============================] - 0s 6ms/step - loss: 21.2039 - mae: 3.0852 - val_loss: 10.1231 - val_mae: 2.2087\n",
            "Epoch 84/400\n",
            "9/9 [==============================] - 0s 6ms/step - loss: 21.2749 - mae: 3.1167 - val_loss: 9.1880 - val_mae: 2.1931\n",
            "Epoch 85/400\n",
            "9/9 [==============================] - 0s 6ms/step - loss: 21.0687 - mae: 3.0871 - val_loss: 10.0625 - val_mae: 2.1981\n",
            "Epoch 86/400\n",
            "9/9 [==============================] - 0s 6ms/step - loss: 21.0715 - mae: 3.0849 - val_loss: 9.7907 - val_mae: 2.1776\n",
            "Epoch 87/400\n",
            "9/9 [==============================] - 0s 7ms/step - loss: 21.0794 - mae: 3.0951 - val_loss: 9.1851 - val_mae: 2.1782\n",
            "Epoch 88/400\n",
            "9/9 [==============================] - 0s 6ms/step - loss: 20.9493 - mae: 3.0777 - val_loss: 10.2193 - val_mae: 2.2338\n",
            "Epoch 89/400\n",
            "9/9 [==============================] - 0s 9ms/step - loss: 20.9640 - mae: 3.0712 - val_loss: 10.1196 - val_mae: 2.2262\n",
            "Epoch 90/400\n",
            "9/9 [==============================] - 0s 9ms/step - loss: 21.0790 - mae: 3.0742 - val_loss: 10.0676 - val_mae: 2.2674\n",
            "Epoch 91/400\n",
            "9/9 [==============================] - 0s 6ms/step - loss: 21.2128 - mae: 3.1019 - val_loss: 10.2221 - val_mae: 2.2031\n",
            "Epoch 92/400\n",
            "9/9 [==============================] - 0s 8ms/step - loss: 21.0197 - mae: 3.0935 - val_loss: 9.0211 - val_mae: 2.2244\n",
            "Epoch 93/400\n",
            "9/9 [==============================] - 0s 7ms/step - loss: 21.0631 - mae: 3.0870 - val_loss: 10.1813 - val_mae: 2.2619\n",
            "Epoch 94/400\n",
            "9/9 [==============================] - 0s 6ms/step - loss: 20.9114 - mae: 3.0483 - val_loss: 9.9055 - val_mae: 2.2241\n",
            "Epoch 95/400\n",
            "9/9 [==============================] - 0s 6ms/step - loss: 20.8931 - mae: 3.0712 - val_loss: 9.2660 - val_mae: 2.2036\n",
            "Epoch 96/400\n",
            "9/9 [==============================] - 0s 8ms/step - loss: 20.8924 - mae: 3.0761 - val_loss: 9.7378 - val_mae: 2.2380\n",
            "Epoch 97/400\n",
            "9/9 [==============================] - 0s 7ms/step - loss: 20.9664 - mae: 3.0761 - val_loss: 10.2423 - val_mae: 2.2124\n",
            "Epoch 98/400\n",
            "9/9 [==============================] - 0s 5ms/step - loss: 20.8836 - mae: 3.0366 - val_loss: 10.4305 - val_mae: 2.2549\n",
            "Epoch 99/400\n",
            "9/9 [==============================] - 0s 7ms/step - loss: 20.7903 - mae: 3.0477 - val_loss: 9.6794 - val_mae: 2.2474\n",
            "Epoch 100/400\n",
            "9/9 [==============================] - 0s 6ms/step - loss: 20.8054 - mae: 3.0540 - val_loss: 9.4881 - val_mae: 2.2394\n",
            "Epoch 101/400\n",
            "9/9 [==============================] - 0s 6ms/step - loss: 20.7845 - mae: 3.0540 - val_loss: 9.3624 - val_mae: 2.2013\n",
            "Epoch 102/400\n",
            "9/9 [==============================] - 0s 8ms/step - loss: 20.6929 - mae: 3.0400 - val_loss: 9.4770 - val_mae: 2.2156\n",
            "Epoch 103/400\n",
            "9/9 [==============================] - 0s 7ms/step - loss: 20.7238 - mae: 3.0231 - val_loss: 9.7650 - val_mae: 2.2006\n",
            "Epoch 104/400\n",
            "9/9 [==============================] - 0s 6ms/step - loss: 20.7464 - mae: 3.0354 - val_loss: 9.4479 - val_mae: 2.2535\n",
            "Epoch 105/400\n",
            "9/9 [==============================] - 0s 6ms/step - loss: 20.6921 - mae: 3.0578 - val_loss: 9.5540 - val_mae: 2.2149\n",
            "Epoch 106/400\n",
            "9/9 [==============================] - 0s 6ms/step - loss: 20.6752 - mae: 3.0496 - val_loss: 9.8132 - val_mae: 2.2089\n",
            "Epoch 107/400\n",
            "9/9 [==============================] - 0s 6ms/step - loss: 20.7271 - mae: 3.0295 - val_loss: 10.2157 - val_mae: 2.2848\n",
            "Epoch 108/400\n",
            "9/9 [==============================] - 0s 6ms/step - loss: 20.6864 - mae: 3.0465 - val_loss: 9.3912 - val_mae: 2.3008\n",
            "Epoch 109/400\n",
            "9/9 [==============================] - 0s 7ms/step - loss: 20.5714 - mae: 3.0538 - val_loss: 9.5723 - val_mae: 2.2374\n",
            "Epoch 110/400\n",
            "9/9 [==============================] - 0s 6ms/step - loss: 20.5846 - mae: 3.0415 - val_loss: 9.6764 - val_mae: 2.2063\n",
            "Epoch 111/400\n",
            "9/9 [==============================] - 0s 9ms/step - loss: 20.5734 - mae: 3.0064 - val_loss: 9.9668 - val_mae: 2.2141\n",
            "Epoch 112/400\n",
            "9/9 [==============================] - 0s 6ms/step - loss: 20.6410 - mae: 3.0297 - val_loss: 9.3865 - val_mae: 2.2525\n",
            "Epoch 113/400\n",
            "9/9 [==============================] - 0s 7ms/step - loss: 20.5380 - mae: 3.0355 - val_loss: 9.4892 - val_mae: 2.2367\n",
            "Epoch 114/400\n",
            "9/9 [==============================] - 0s 5ms/step - loss: 20.6836 - mae: 3.0484 - val_loss: 9.4337 - val_mae: 2.2031\n",
            "Epoch 115/400\n",
            "9/9 [==============================] - 0s 5ms/step - loss: 20.5870 - mae: 3.0185 - val_loss: 9.9602 - val_mae: 2.1908\n",
            "Epoch 116/400\n",
            "9/9 [==============================] - 0s 5ms/step - loss: 20.6567 - mae: 2.9924 - val_loss: 10.0374 - val_mae: 2.2523\n",
            "Epoch 117/400\n",
            "9/9 [==============================] - 0s 8ms/step - loss: 20.6425 - mae: 3.0198 - val_loss: 9.0427 - val_mae: 2.2836\n",
            "Epoch 118/400\n",
            "9/9 [==============================] - 0s 7ms/step - loss: 20.5820 - mae: 3.0393 - val_loss: 9.3539 - val_mae: 2.2898\n",
            "Epoch 119/400\n",
            "9/9 [==============================] - 0s 7ms/step - loss: 20.4290 - mae: 3.0089 - val_loss: 10.3157 - val_mae: 2.2571\n",
            "Epoch 120/400\n",
            "9/9 [==============================] - 0s 6ms/step - loss: 20.4736 - mae: 3.0286 - val_loss: 9.9389 - val_mae: 2.2441\n",
            "Epoch 121/400\n",
            "9/9 [==============================] - 0s 6ms/step - loss: 20.4413 - mae: 2.9958 - val_loss: 10.1593 - val_mae: 2.2370\n",
            "Epoch 122/400\n",
            "9/9 [==============================] - 0s 6ms/step - loss: 20.3992 - mae: 3.0150 - val_loss: 9.1383 - val_mae: 2.2785\n",
            "Epoch 123/400\n",
            "9/9 [==============================] - 0s 8ms/step - loss: 20.4971 - mae: 3.0305 - val_loss: 8.8385 - val_mae: 2.2488\n",
            "Epoch 124/400\n",
            "9/9 [==============================] - 0s 6ms/step - loss: 20.3560 - mae: 2.9928 - val_loss: 10.1542 - val_mae: 2.2384\n",
            "Epoch 125/400\n",
            "9/9 [==============================] - 0s 6ms/step - loss: 20.4574 - mae: 2.9795 - val_loss: 9.8833 - val_mae: 2.2120\n",
            "Epoch 126/400\n",
            "9/9 [==============================] - 0s 6ms/step - loss: 20.4668 - mae: 3.0151 - val_loss: 8.7860 - val_mae: 2.2805\n",
            "Epoch 127/400\n",
            "9/9 [==============================] - 0s 6ms/step - loss: 20.3935 - mae: 3.0147 - val_loss: 9.8369 - val_mae: 2.2623\n",
            "Epoch 128/400\n",
            "9/9 [==============================] - 0s 6ms/step - loss: 20.3854 - mae: 2.9819 - val_loss: 9.5923 - val_mae: 2.2285\n",
            "Epoch 129/400\n",
            "9/9 [==============================] - 0s 10ms/step - loss: 20.4866 - mae: 3.0241 - val_loss: 9.1031 - val_mae: 2.2663\n",
            "Epoch 130/400\n",
            "9/9 [==============================] - 0s 6ms/step - loss: 20.4523 - mae: 2.9866 - val_loss: 10.9965 - val_mae: 2.2760\n",
            "Epoch 131/400\n",
            "9/9 [==============================] - 0s 5ms/step - loss: 20.3209 - mae: 2.9805 - val_loss: 9.5956 - val_mae: 2.2587\n",
            "Epoch 132/400\n",
            "9/9 [==============================] - 0s 6ms/step - loss: 20.3573 - mae: 3.0279 - val_loss: 9.3228 - val_mae: 2.2484\n",
            "Epoch 133/400\n",
            "9/9 [==============================] - 0s 9ms/step - loss: 20.3323 - mae: 3.0004 - val_loss: 9.7314 - val_mae: 2.2656\n",
            "Epoch 134/400\n",
            "9/9 [==============================] - 0s 8ms/step - loss: 20.3975 - mae: 2.9866 - val_loss: 9.4598 - val_mae: 2.2508\n",
            "Epoch 135/400\n",
            "9/9 [==============================] - 0s 7ms/step - loss: 20.3992 - mae: 3.0038 - val_loss: 9.6034 - val_mae: 2.2707\n",
            "Epoch 136/400\n",
            "9/9 [==============================] - 0s 6ms/step - loss: 20.2704 - mae: 2.9558 - val_loss: 10.3565 - val_mae: 2.2813\n",
            "Epoch 137/400\n",
            "9/9 [==============================] - 0s 6ms/step - loss: 20.2602 - mae: 2.9796 - val_loss: 9.3493 - val_mae: 2.2648\n",
            "Epoch 138/400\n",
            "9/9 [==============================] - 0s 8ms/step - loss: 20.2453 - mae: 2.9940 - val_loss: 9.6109 - val_mae: 2.2680\n",
            "Epoch 139/400\n",
            "9/9 [==============================] - 0s 5ms/step - loss: 20.2983 - mae: 2.9793 - val_loss: 9.5700 - val_mae: 2.2705\n",
            "Epoch 140/400\n",
            "9/9 [==============================] - 0s 5ms/step - loss: 20.2121 - mae: 2.9819 - val_loss: 9.3075 - val_mae: 2.2563\n",
            "Epoch 141/400\n",
            "9/9 [==============================] - 0s 5ms/step - loss: 20.2343 - mae: 3.0089 - val_loss: 9.7200 - val_mae: 2.2420\n",
            "Epoch 142/400\n",
            "9/9 [==============================] - 0s 7ms/step - loss: 20.2759 - mae: 2.9605 - val_loss: 10.2795 - val_mae: 2.2430\n",
            "Epoch 143/400\n",
            "9/9 [==============================] - 0s 6ms/step - loss: 20.4201 - mae: 2.9694 - val_loss: 9.7030 - val_mae: 2.3177\n",
            "Epoch 144/400\n",
            "9/9 [==============================] - 0s 6ms/step - loss: 20.5356 - mae: 3.0412 - val_loss: 8.9376 - val_mae: 2.3287\n",
            "Epoch 145/400\n",
            "9/9 [==============================] - 0s 6ms/step - loss: 20.1873 - mae: 2.9958 - val_loss: 10.1042 - val_mae: 2.2839\n",
            "Epoch 146/400\n",
            "9/9 [==============================] - 0s 6ms/step - loss: 20.2331 - mae: 2.9733 - val_loss: 10.1708 - val_mae: 2.2912\n",
            "Epoch 147/400\n",
            "9/9 [==============================] - 0s 6ms/step - loss: 20.2603 - mae: 2.9842 - val_loss: 9.3195 - val_mae: 2.2165\n",
            "Epoch 148/400\n",
            "9/9 [==============================] - 0s 7ms/step - loss: 20.0648 - mae: 2.9721 - val_loss: 9.8061 - val_mae: 2.2790\n",
            "Epoch 149/400\n",
            "9/9 [==============================] - 0s 7ms/step - loss: 20.2209 - mae: 2.9584 - val_loss: 9.4533 - val_mae: 2.3046\n",
            "Epoch 150/400\n",
            "9/9 [==============================] - 0s 8ms/step - loss: 20.3684 - mae: 3.0193 - val_loss: 9.0281 - val_mae: 2.2735\n",
            "Epoch 151/400\n",
            "9/9 [==============================] - 0s 6ms/step - loss: 20.1355 - mae: 2.9840 - val_loss: 10.1342 - val_mae: 2.2758\n",
            "Epoch 152/400\n",
            "9/9 [==============================] - 0s 7ms/step - loss: 20.1149 - mae: 2.9595 - val_loss: 9.1922 - val_mae: 2.2380\n",
            "Epoch 153/400\n",
            "9/9 [==============================] - 0s 7ms/step - loss: 20.1308 - mae: 2.9565 - val_loss: 9.6300 - val_mae: 2.2747\n",
            "Epoch 154/400\n",
            "9/9 [==============================] - 0s 8ms/step - loss: 20.1030 - mae: 2.9671 - val_loss: 9.1188 - val_mae: 2.2639\n",
            "Epoch 155/400\n",
            "9/9 [==============================] - 0s 7ms/step - loss: 20.2438 - mae: 2.9699 - val_loss: 9.6977 - val_mae: 2.2652\n",
            "Epoch 156/400\n",
            "9/9 [==============================] - 0s 7ms/step - loss: 20.2313 - mae: 2.9812 - val_loss: 9.1727 - val_mae: 2.1912\n",
            "Epoch 157/400\n",
            "9/9 [==============================] - 0s 8ms/step - loss: 20.2148 - mae: 3.0110 - val_loss: 8.7275 - val_mae: 2.2911\n",
            "Epoch 158/400\n",
            "9/9 [==============================] - 0s 6ms/step - loss: 20.1367 - mae: 2.9601 - val_loss: 9.9669 - val_mae: 2.2788\n",
            "Epoch 159/400\n",
            "9/9 [==============================] - 0s 7ms/step - loss: 20.0771 - mae: 2.9458 - val_loss: 10.1019 - val_mae: 2.2864\n",
            "Epoch 160/400\n",
            "9/9 [==============================] - 0s 6ms/step - loss: 20.0365 - mae: 2.9874 - val_loss: 9.2419 - val_mae: 2.3138\n",
            "Epoch 161/400\n",
            "9/9 [==============================] - 0s 6ms/step - loss: 20.2905 - mae: 3.0023 - val_loss: 9.8383 - val_mae: 2.3082\n",
            "Epoch 162/400\n",
            "9/9 [==============================] - 0s 6ms/step - loss: 19.9906 - mae: 2.9576 - val_loss: 9.1169 - val_mae: 2.2745\n",
            "Epoch 163/400\n",
            "9/9 [==============================] - 0s 6ms/step - loss: 20.1256 - mae: 2.9981 - val_loss: 8.9633 - val_mae: 2.2312\n",
            "Epoch 164/400\n",
            "9/9 [==============================] - 0s 9ms/step - loss: 20.0364 - mae: 2.9573 - val_loss: 9.5555 - val_mae: 2.2786\n",
            "Epoch 165/400\n",
            "9/9 [==============================] - 0s 6ms/step - loss: 19.9792 - mae: 2.9488 - val_loss: 9.5467 - val_mae: 2.2766\n",
            "Epoch 166/400\n",
            "9/9 [==============================] - 0s 6ms/step - loss: 19.9532 - mae: 2.9512 - val_loss: 9.0537 - val_mae: 2.2594\n",
            "Epoch 167/400\n",
            "9/9 [==============================] - 0s 6ms/step - loss: 20.0198 - mae: 2.9893 - val_loss: 8.7257 - val_mae: 2.2131\n",
            "Epoch 168/400\n",
            "9/9 [==============================] - 0s 6ms/step - loss: 19.9804 - mae: 2.9597 - val_loss: 9.4205 - val_mae: 2.2221\n",
            "Epoch 169/400\n",
            "9/9 [==============================] - 0s 6ms/step - loss: 19.9344 - mae: 2.9432 - val_loss: 9.6299 - val_mae: 2.2870\n",
            "Epoch 170/400\n",
            "9/9 [==============================] - 0s 7ms/step - loss: 20.1005 - mae: 2.9586 - val_loss: 8.7122 - val_mae: 2.2689\n",
            "Epoch 171/400\n",
            "9/9 [==============================] - 0s 6ms/step - loss: 19.9486 - mae: 2.9520 - val_loss: 9.2329 - val_mae: 2.2742\n",
            "Epoch 172/400\n",
            "9/9 [==============================] - 0s 9ms/step - loss: 20.0728 - mae: 2.9711 - val_loss: 9.7976 - val_mae: 2.2600\n",
            "Epoch 173/400\n",
            "9/9 [==============================] - 0s 8ms/step - loss: 20.0250 - mae: 2.9910 - val_loss: 8.8467 - val_mae: 2.2639\n",
            "Epoch 174/400\n",
            "9/9 [==============================] - 0s 11ms/step - loss: 19.9484 - mae: 2.9793 - val_loss: 9.4279 - val_mae: 2.2772\n",
            "Epoch 175/400\n",
            "9/9 [==============================] - 0s 9ms/step - loss: 19.9048 - mae: 2.9489 - val_loss: 9.1441 - val_mae: 2.2484\n",
            "Epoch 176/400\n",
            "9/9 [==============================] - 0s 9ms/step - loss: 19.9338 - mae: 2.9465 - val_loss: 9.8159 - val_mae: 2.2753\n",
            "Epoch 177/400\n",
            "9/9 [==============================] - 0s 12ms/step - loss: 20.1811 - mae: 3.0033 - val_loss: 9.0373 - val_mae: 2.2588\n",
            "Epoch 178/400\n",
            "9/9 [==============================] - 0s 11ms/step - loss: 19.9127 - mae: 2.9635 - val_loss: 9.4262 - val_mae: 2.2371\n",
            "Epoch 179/400\n",
            "9/9 [==============================] - 0s 8ms/step - loss: 19.8127 - mae: 2.9363 - val_loss: 8.8478 - val_mae: 2.2674\n",
            "Epoch 180/400\n",
            "9/9 [==============================] - 0s 11ms/step - loss: 19.9300 - mae: 2.9623 - val_loss: 8.8455 - val_mae: 2.2801\n",
            "Epoch 181/400\n",
            "9/9 [==============================] - 0s 7ms/step - loss: 19.9603 - mae: 2.9548 - val_loss: 9.7470 - val_mae: 2.2534\n",
            "Epoch 182/400\n",
            "9/9 [==============================] - 0s 11ms/step - loss: 19.7308 - mae: 2.9487 - val_loss: 9.1663 - val_mae: 2.2354\n",
            "Epoch 183/400\n",
            "9/9 [==============================] - 0s 8ms/step - loss: 20.0646 - mae: 3.0084 - val_loss: 8.9349 - val_mae: 2.2414\n",
            "Epoch 184/400\n",
            "9/9 [==============================] - 0s 9ms/step - loss: 19.8710 - mae: 2.9413 - val_loss: 9.4559 - val_mae: 2.2853\n",
            "Epoch 185/400\n",
            "9/9 [==============================] - 0s 9ms/step - loss: 20.0063 - mae: 2.9698 - val_loss: 8.8250 - val_mae: 2.2287\n",
            "Epoch 186/400\n",
            "9/9 [==============================] - 0s 11ms/step - loss: 19.8620 - mae: 2.9583 - val_loss: 9.6577 - val_mae: 2.2386\n",
            "Epoch 187/400\n",
            "9/9 [==============================] - 0s 11ms/step - loss: 19.9347 - mae: 2.9635 - val_loss: 8.7906 - val_mae: 2.2469\n",
            "Epoch 188/400\n",
            "9/9 [==============================] - 0s 8ms/step - loss: 19.8297 - mae: 2.9554 - val_loss: 8.7484 - val_mae: 2.2082\n",
            "Epoch 189/400\n",
            "9/9 [==============================] - 0s 7ms/step - loss: 19.9902 - mae: 2.9301 - val_loss: 10.0592 - val_mae: 2.2712\n",
            "Epoch 190/400\n",
            "9/9 [==============================] - 0s 10ms/step - loss: 19.8613 - mae: 2.9656 - val_loss: 9.4035 - val_mae: 2.3008\n",
            "Epoch 191/400\n",
            "9/9 [==============================] - 0s 7ms/step - loss: 19.9238 - mae: 2.9739 - val_loss: 10.1296 - val_mae: 2.3007\n",
            "Epoch 192/400\n",
            "9/9 [==============================] - 0s 8ms/step - loss: 19.7563 - mae: 2.9538 - val_loss: 9.3034 - val_mae: 2.2871\n",
            "Epoch 193/400\n",
            "9/9 [==============================] - 0s 8ms/step - loss: 19.9268 - mae: 2.9620 - val_loss: 9.0672 - val_mae: 2.2209\n",
            "Epoch 194/400\n",
            "9/9 [==============================] - 0s 7ms/step - loss: 19.7101 - mae: 2.9415 - val_loss: 9.0842 - val_mae: 2.2422\n",
            "Epoch 195/400\n",
            "9/9 [==============================] - 0s 9ms/step - loss: 19.7263 - mae: 2.9325 - val_loss: 9.2845 - val_mae: 2.2657\n",
            "Epoch 196/400\n",
            "9/9 [==============================] - 0s 10ms/step - loss: 19.7450 - mae: 2.9355 - val_loss: 9.2938 - val_mae: 2.3084\n",
            "Epoch 197/400\n",
            "9/9 [==============================] - 0s 9ms/step - loss: 19.7794 - mae: 2.9648 - val_loss: 9.4534 - val_mae: 2.3206\n",
            "Epoch 198/400\n",
            "9/9 [==============================] - 0s 7ms/step - loss: 19.7443 - mae: 2.9604 - val_loss: 10.0645 - val_mae: 2.3010\n",
            "Epoch 199/400\n",
            "9/9 [==============================] - 0s 7ms/step - loss: 19.7847 - mae: 2.9311 - val_loss: 9.5526 - val_mae: 2.2928\n",
            "Epoch 200/400\n",
            "9/9 [==============================] - 0s 6ms/step - loss: 19.7978 - mae: 2.9409 - val_loss: 8.9532 - val_mae: 2.2314\n",
            "Epoch 201/400\n",
            "9/9 [==============================] - 0s 7ms/step - loss: 19.8118 - mae: 2.9497 - val_loss: 8.8866 - val_mae: 2.2727\n",
            "Epoch 202/400\n",
            "9/9 [==============================] - 0s 8ms/step - loss: 19.7949 - mae: 2.9430 - val_loss: 8.8901 - val_mae: 2.2234\n",
            "Epoch 203/400\n",
            "9/9 [==============================] - 0s 6ms/step - loss: 19.9436 - mae: 2.9489 - val_loss: 9.7619 - val_mae: 2.2898\n",
            "Epoch 204/400\n",
            "9/9 [==============================] - 0s 6ms/step - loss: 19.7373 - mae: 2.9403 - val_loss: 9.7405 - val_mae: 2.3174\n",
            "Epoch 205/400\n",
            "9/9 [==============================] - 0s 6ms/step - loss: 19.6834 - mae: 2.9448 - val_loss: 9.0300 - val_mae: 2.2703\n",
            "Epoch 206/400\n",
            "9/9 [==============================] - 0s 6ms/step - loss: 19.8169 - mae: 2.9554 - val_loss: 9.5979 - val_mae: 2.2956\n",
            "Epoch 207/400\n",
            "9/9 [==============================] - 0s 6ms/step - loss: 19.7085 - mae: 2.9499 - val_loss: 9.1357 - val_mae: 2.2474\n",
            "Epoch 208/400\n",
            "9/9 [==============================] - 0s 6ms/step - loss: 19.7322 - mae: 2.9672 - val_loss: 9.1930 - val_mae: 2.2687\n",
            "Epoch 209/400\n",
            "9/9 [==============================] - 0s 6ms/step - loss: 19.7297 - mae: 2.9382 - val_loss: 9.4544 - val_mae: 2.2621\n",
            "Epoch 210/400\n",
            "9/9 [==============================] - 0s 6ms/step - loss: 19.8419 - mae: 2.9406 - val_loss: 9.6236 - val_mae: 2.3299\n",
            "Epoch 211/400\n",
            "9/9 [==============================] - 0s 7ms/step - loss: 19.7481 - mae: 2.9580 - val_loss: 9.3287 - val_mae: 2.2633\n",
            "Epoch 212/400\n",
            "9/9 [==============================] - 0s 6ms/step - loss: 19.7021 - mae: 2.9678 - val_loss: 9.2125 - val_mae: 2.2756\n",
            "Epoch 213/400\n",
            "9/9 [==============================] - 0s 6ms/step - loss: 19.7380 - mae: 2.9313 - val_loss: 9.5736 - val_mae: 2.2630\n",
            "Epoch 214/400\n",
            "9/9 [==============================] - 0s 7ms/step - loss: 19.6526 - mae: 2.9291 - val_loss: 8.7839 - val_mae: 2.2402\n",
            "Epoch 215/400\n",
            "9/9 [==============================] - 0s 8ms/step - loss: 19.6955 - mae: 2.9658 - val_loss: 9.4344 - val_mae: 2.3130\n",
            "Epoch 216/400\n",
            "9/9 [==============================] - 0s 9ms/step - loss: 19.7334 - mae: 2.9605 - val_loss: 9.2186 - val_mae: 2.2998\n",
            "Epoch 217/400\n",
            "9/9 [==============================] - 0s 6ms/step - loss: 19.6913 - mae: 2.9234 - val_loss: 9.9088 - val_mae: 2.2534\n",
            "Epoch 218/400\n",
            "9/9 [==============================] - 0s 7ms/step - loss: 19.6646 - mae: 2.9399 - val_loss: 9.2006 - val_mae: 2.2987\n",
            "Epoch 219/400\n",
            "9/9 [==============================] - 0s 6ms/step - loss: 19.6964 - mae: 2.9509 - val_loss: 9.7468 - val_mae: 2.2728\n",
            "Epoch 220/400\n",
            "9/9 [==============================] - 0s 8ms/step - loss: 19.6759 - mae: 2.9427 - val_loss: 8.7977 - val_mae: 2.2822\n",
            "Epoch 221/400\n",
            "9/9 [==============================] - 0s 6ms/step - loss: 19.6038 - mae: 2.9437 - val_loss: 9.4700 - val_mae: 2.2783\n",
            "Epoch 222/400\n",
            "9/9 [==============================] - 0s 6ms/step - loss: 19.6341 - mae: 2.9566 - val_loss: 8.8493 - val_mae: 2.2128\n",
            "Epoch 223/400\n",
            "9/9 [==============================] - 0s 6ms/step - loss: 19.6983 - mae: 2.9589 - val_loss: 8.8062 - val_mae: 2.2137\n",
            "Epoch 224/400\n",
            "9/9 [==============================] - 0s 6ms/step - loss: 19.7991 - mae: 2.9174 - val_loss: 9.4352 - val_mae: 2.2844\n",
            "Epoch 225/400\n",
            "9/9 [==============================] - 0s 6ms/step - loss: 19.6753 - mae: 2.9111 - val_loss: 9.4105 - val_mae: 2.2934\n",
            "Epoch 226/400\n",
            "9/9 [==============================] - 0s 6ms/step - loss: 19.6230 - mae: 2.9875 - val_loss: 8.8144 - val_mae: 2.3022\n",
            "Epoch 227/400\n",
            "9/9 [==============================] - 0s 7ms/step - loss: 19.5916 - mae: 2.9769 - val_loss: 8.8426 - val_mae: 2.2308\n",
            "Epoch 228/400\n",
            "9/9 [==============================] - 0s 6ms/step - loss: 19.6088 - mae: 2.9186 - val_loss: 10.0679 - val_mae: 2.2474\n",
            "Epoch 229/400\n",
            "9/9 [==============================] - 0s 6ms/step - loss: 19.6434 - mae: 2.9088 - val_loss: 8.8160 - val_mae: 2.2879\n",
            "Epoch 230/400\n",
            "9/9 [==============================] - 0s 7ms/step - loss: 19.6603 - mae: 2.9670 - val_loss: 8.8998 - val_mae: 2.2628\n",
            "Epoch 231/400\n",
            "9/9 [==============================] - 0s 7ms/step - loss: 19.6835 - mae: 2.9634 - val_loss: 8.8537 - val_mae: 2.2465\n",
            "Epoch 232/400\n",
            "9/9 [==============================] - 0s 7ms/step - loss: 19.6494 - mae: 2.9306 - val_loss: 9.1499 - val_mae: 2.2346\n",
            "Epoch 233/400\n",
            "9/9 [==============================] - 0s 7ms/step - loss: 19.6490 - mae: 2.9181 - val_loss: 9.0514 - val_mae: 2.2769\n",
            "Epoch 234/400\n",
            "9/9 [==============================] - 0s 7ms/step - loss: 19.4974 - mae: 2.9496 - val_loss: 8.7735 - val_mae: 2.2597\n",
            "Epoch 235/400\n",
            "9/9 [==============================] - 0s 5ms/step - loss: 19.5958 - mae: 2.9595 - val_loss: 8.6477 - val_mae: 2.2333\n",
            "Epoch 236/400\n",
            "9/9 [==============================] - 0s 6ms/step - loss: 19.6634 - mae: 2.9177 - val_loss: 9.2303 - val_mae: 2.1970\n",
            "Epoch 237/400\n",
            "9/9 [==============================] - 0s 6ms/step - loss: 19.6809 - mae: 2.9434 - val_loss: 8.4850 - val_mae: 2.2536\n",
            "Epoch 238/400\n",
            "9/9 [==============================] - 0s 5ms/step - loss: 19.5457 - mae: 2.9220 - val_loss: 9.5641 - val_mae: 2.2747\n",
            "Epoch 239/400\n",
            "9/9 [==============================] - 0s 6ms/step - loss: 19.5298 - mae: 2.9366 - val_loss: 9.3074 - val_mae: 2.3087\n",
            "Epoch 240/400\n",
            "9/9 [==============================] - 0s 5ms/step - loss: 19.5746 - mae: 2.9427 - val_loss: 10.0618 - val_mae: 2.2772\n",
            "Epoch 241/400\n",
            "9/9 [==============================] - 0s 5ms/step - loss: 19.5570 - mae: 2.9255 - val_loss: 9.3941 - val_mae: 2.3173\n",
            "Epoch 242/400\n",
            "9/9 [==============================] - 0s 5ms/step - loss: 19.5522 - mae: 2.9397 - val_loss: 8.7781 - val_mae: 2.2586\n",
            "Epoch 243/400\n",
            "9/9 [==============================] - 0s 6ms/step - loss: 19.5703 - mae: 2.9355 - val_loss: 9.6015 - val_mae: 2.2645\n",
            "Epoch 244/400\n",
            "9/9 [==============================] - 0s 7ms/step - loss: 19.6134 - mae: 2.9373 - val_loss: 9.1406 - val_mae: 2.2659\n",
            "Epoch 245/400\n",
            "9/9 [==============================] - 0s 7ms/step - loss: 19.4655 - mae: 2.9380 - val_loss: 9.1965 - val_mae: 2.2456\n",
            "Epoch 246/400\n",
            "9/9 [==============================] - 0s 7ms/step - loss: 19.6988 - mae: 2.9659 - val_loss: 8.7602 - val_mae: 2.2566\n",
            "Epoch 247/400\n",
            "9/9 [==============================] - 0s 6ms/step - loss: 19.8443 - mae: 2.9853 - val_loss: 8.8191 - val_mae: 2.2495\n",
            "Epoch 248/400\n",
            "9/9 [==============================] - 0s 6ms/step - loss: 19.4235 - mae: 2.9229 - val_loss: 9.2313 - val_mae: 2.2274\n",
            "Epoch 249/400\n",
            "9/9 [==============================] - 0s 6ms/step - loss: 19.5247 - mae: 2.9047 - val_loss: 8.6167 - val_mae: 2.2176\n",
            "Epoch 250/400\n",
            "9/9 [==============================] - 0s 6ms/step - loss: 19.5469 - mae: 2.9323 - val_loss: 8.7851 - val_mae: 2.2612\n",
            "Epoch 251/400\n",
            "9/9 [==============================] - 0s 6ms/step - loss: 19.4834 - mae: 2.9390 - val_loss: 8.9286 - val_mae: 2.2373\n",
            "Epoch 252/400\n",
            "9/9 [==============================] - 0s 6ms/step - loss: 19.5028 - mae: 2.9208 - val_loss: 9.3429 - val_mae: 2.2480\n",
            "Epoch 253/400\n",
            "9/9 [==============================] - 0s 6ms/step - loss: 19.4940 - mae: 2.9302 - val_loss: 8.8568 - val_mae: 2.2533\n",
            "Epoch 254/400\n",
            "9/9 [==============================] - 0s 6ms/step - loss: 19.7525 - mae: 2.9311 - val_loss: 9.5059 - val_mae: 2.2429\n",
            "Epoch 255/400\n",
            "9/9 [==============================] - 0s 5ms/step - loss: 19.4931 - mae: 2.9394 - val_loss: 8.2653 - val_mae: 2.2226\n",
            "Epoch 256/400\n",
            "9/9 [==============================] - 0s 6ms/step - loss: 19.5174 - mae: 2.9431 - val_loss: 8.4327 - val_mae: 2.2188\n",
            "Epoch 257/400\n",
            "9/9 [==============================] - 0s 6ms/step - loss: 19.6234 - mae: 2.9256 - val_loss: 8.8517 - val_mae: 2.2800\n",
            "Epoch 258/400\n",
            "9/9 [==============================] - 0s 6ms/step - loss: 19.5208 - mae: 2.9505 - val_loss: 8.5927 - val_mae: 2.2150\n",
            "Epoch 259/400\n",
            "9/9 [==============================] - 0s 6ms/step - loss: 19.6668 - mae: 2.9285 - val_loss: 9.4567 - val_mae: 2.2276\n",
            "Epoch 260/400\n",
            "9/9 [==============================] - 0s 7ms/step - loss: 19.5089 - mae: 2.9344 - val_loss: 8.9487 - val_mae: 2.2253\n",
            "Epoch 261/400\n",
            "9/9 [==============================] - 0s 6ms/step - loss: 19.3750 - mae: 2.9381 - val_loss: 8.5749 - val_mae: 2.2426\n",
            "Epoch 262/400\n",
            "9/9 [==============================] - 0s 6ms/step - loss: 19.5055 - mae: 2.9031 - val_loss: 8.9844 - val_mae: 2.2228\n",
            "Epoch 263/400\n",
            "9/9 [==============================] - 0s 7ms/step - loss: 19.5622 - mae: 2.9282 - val_loss: 8.7197 - val_mae: 2.2259\n",
            "Epoch 264/400\n",
            "9/9 [==============================] - 0s 7ms/step - loss: 19.5055 - mae: 2.9489 - val_loss: 8.4979 - val_mae: 2.2596\n",
            "Epoch 265/400\n",
            "9/9 [==============================] - 0s 6ms/step - loss: 19.4948 - mae: 2.9229 - val_loss: 9.5531 - val_mae: 2.2685\n",
            "Epoch 266/400\n",
            "9/9 [==============================] - 0s 6ms/step - loss: 19.4981 - mae: 2.9156 - val_loss: 9.1029 - val_mae: 2.2248\n",
            "Epoch 267/400\n",
            "9/9 [==============================] - 0s 6ms/step - loss: 19.3690 - mae: 2.9234 - val_loss: 8.9617 - val_mae: 2.2546\n",
            "Epoch 268/400\n",
            "9/9 [==============================] - 0s 6ms/step - loss: 19.5251 - mae: 2.9314 - val_loss: 8.7435 - val_mae: 2.2327\n",
            "Epoch 269/400\n",
            "9/9 [==============================] - 0s 8ms/step - loss: 19.5632 - mae: 2.9241 - val_loss: 8.1435 - val_mae: 2.2458\n",
            "Epoch 270/400\n",
            "9/9 [==============================] - 0s 7ms/step - loss: 19.4938 - mae: 2.9189 - val_loss: 9.6546 - val_mae: 2.2153\n",
            "Epoch 271/400\n",
            "9/9 [==============================] - 0s 7ms/step - loss: 19.4073 - mae: 2.9229 - val_loss: 8.9828 - val_mae: 2.2194\n",
            "Epoch 272/400\n",
            "9/9 [==============================] - 0s 6ms/step - loss: 19.5464 - mae: 2.9418 - val_loss: 8.1952 - val_mae: 2.2634\n",
            "Epoch 273/400\n",
            "9/9 [==============================] - 0s 7ms/step - loss: 19.5256 - mae: 2.9255 - val_loss: 9.1697 - val_mae: 2.2440\n",
            "Epoch 274/400\n",
            "9/9 [==============================] - 0s 10ms/step - loss: 19.6410 - mae: 2.9661 - val_loss: 8.5274 - val_mae: 2.2105\n",
            "Epoch 275/400\n",
            "9/9 [==============================] - 0s 10ms/step - loss: 19.5527 - mae: 2.9248 - val_loss: 9.5488 - val_mae: 2.2468\n",
            "Epoch 276/400\n",
            "9/9 [==============================] - 0s 5ms/step - loss: 19.5274 - mae: 2.9129 - val_loss: 8.1796 - val_mae: 2.2070\n",
            "Epoch 277/400\n",
            "9/9 [==============================] - 0s 7ms/step - loss: 19.6799 - mae: 2.9658 - val_loss: 8.6572 - val_mae: 2.1804\n",
            "Epoch 278/400\n",
            "9/9 [==============================] - 0s 8ms/step - loss: 19.3800 - mae: 2.9218 - val_loss: 8.5145 - val_mae: 2.2143\n",
            "Epoch 279/400\n",
            "9/9 [==============================] - 0s 7ms/step - loss: 19.4423 - mae: 2.8979 - val_loss: 8.9817 - val_mae: 2.2075\n",
            "Epoch 280/400\n",
            "9/9 [==============================] - 0s 9ms/step - loss: 19.3759 - mae: 2.9101 - val_loss: 8.4937 - val_mae: 2.2432\n",
            "Epoch 281/400\n",
            "9/9 [==============================] - 0s 7ms/step - loss: 19.4558 - mae: 2.9435 - val_loss: 9.4360 - val_mae: 2.2679\n",
            "Epoch 282/400\n",
            "9/9 [==============================] - 0s 9ms/step - loss: 19.4533 - mae: 2.9463 - val_loss: 8.5145 - val_mae: 2.2483\n",
            "Epoch 283/400\n",
            "9/9 [==============================] - 0s 6ms/step - loss: 19.5352 - mae: 2.9158 - val_loss: 9.0168 - val_mae: 2.1746\n",
            "Epoch 284/400\n",
            "9/9 [==============================] - 0s 7ms/step - loss: 19.5591 - mae: 2.9239 - val_loss: 8.5448 - val_mae: 2.2640\n",
            "Epoch 285/400\n",
            "9/9 [==============================] - 0s 6ms/step - loss: 19.4123 - mae: 2.9320 - val_loss: 8.9826 - val_mae: 2.2148\n",
            "Epoch 286/400\n",
            "9/9 [==============================] - 0s 7ms/step - loss: 19.4431 - mae: 2.9104 - val_loss: 9.0610 - val_mae: 2.2222\n",
            "Epoch 287/400\n",
            "9/9 [==============================] - 0s 7ms/step - loss: 19.4473 - mae: 2.9273 - val_loss: 8.3939 - val_mae: 2.2156\n",
            "Epoch 288/400\n",
            "9/9 [==============================] - 0s 9ms/step - loss: 19.5359 - mae: 2.9412 - val_loss: 8.4184 - val_mae: 2.2483\n",
            "Epoch 289/400\n",
            "9/9 [==============================] - 0s 6ms/step - loss: 19.3548 - mae: 2.9110 - val_loss: 9.3433 - val_mae: 2.1849\n",
            "Epoch 290/400\n",
            "9/9 [==============================] - 0s 6ms/step - loss: 19.5005 - mae: 2.9278 - val_loss: 8.5888 - val_mae: 2.1739\n",
            "Epoch 291/400\n",
            "9/9 [==============================] - 0s 6ms/step - loss: 19.3788 - mae: 2.9397 - val_loss: 8.1605 - val_mae: 2.2114\n",
            "Epoch 292/400\n",
            "9/9 [==============================] - 0s 11ms/step - loss: 19.4506 - mae: 2.9089 - val_loss: 8.8193 - val_mae: 2.1951\n",
            "Epoch 293/400\n",
            "9/9 [==============================] - 0s 7ms/step - loss: 19.3564 - mae: 2.9104 - val_loss: 8.4806 - val_mae: 2.1827\n",
            "Epoch 294/400\n",
            "9/9 [==============================] - 0s 9ms/step - loss: 19.3576 - mae: 2.9246 - val_loss: 8.3772 - val_mae: 2.2205\n",
            "Epoch 295/400\n",
            "9/9 [==============================] - 0s 7ms/step - loss: 19.3998 - mae: 2.9216 - val_loss: 8.2156 - val_mae: 2.1824\n",
            "Epoch 296/400\n",
            "9/9 [==============================] - 0s 7ms/step - loss: 19.3690 - mae: 2.9158 - val_loss: 8.9993 - val_mae: 2.2394\n",
            "Epoch 297/400\n",
            "9/9 [==============================] - 0s 7ms/step - loss: 19.3788 - mae: 2.8996 - val_loss: 8.6515 - val_mae: 2.2146\n",
            "Epoch 298/400\n",
            "9/9 [==============================] - 0s 6ms/step - loss: 19.3452 - mae: 2.9259 - val_loss: 8.2335 - val_mae: 2.2292\n",
            "Epoch 299/400\n",
            "9/9 [==============================] - 0s 8ms/step - loss: 19.3710 - mae: 2.9089 - val_loss: 8.7086 - val_mae: 2.1900\n",
            "Epoch 300/400\n",
            "9/9 [==============================] - 0s 7ms/step - loss: 19.3688 - mae: 2.9134 - val_loss: 8.4081 - val_mae: 2.1672\n",
            "Epoch 301/400\n",
            "9/9 [==============================] - 0s 7ms/step - loss: 19.5544 - mae: 2.9128 - val_loss: 8.6041 - val_mae: 2.2253\n",
            "Epoch 302/400\n",
            "9/9 [==============================] - 0s 7ms/step - loss: 19.7188 - mae: 2.9527 - val_loss: 8.3098 - val_mae: 2.1917\n",
            "Epoch 303/400\n",
            "9/9 [==============================] - 0s 6ms/step - loss: 19.5838 - mae: 2.9200 - val_loss: 9.2513 - val_mae: 2.1980\n",
            "Epoch 304/400\n",
            "9/9 [==============================] - 0s 6ms/step - loss: 19.2598 - mae: 2.9008 - val_loss: 8.2335 - val_mae: 2.2127\n",
            "Epoch 305/400\n",
            "9/9 [==============================] - 0s 6ms/step - loss: 19.5043 - mae: 2.9746 - val_loss: 8.0793 - val_mae: 2.1982\n",
            "Epoch 306/400\n",
            "9/9 [==============================] - 0s 8ms/step - loss: 19.3780 - mae: 2.8985 - val_loss: 8.4040 - val_mae: 2.1797\n",
            "Epoch 307/400\n",
            "9/9 [==============================] - 0s 7ms/step - loss: 19.4277 - mae: 2.9179 - val_loss: 7.7694 - val_mae: 2.1387\n",
            "Epoch 308/400\n",
            "9/9 [==============================] - 0s 8ms/step - loss: 19.4534 - mae: 2.9310 - val_loss: 9.5330 - val_mae: 2.1841\n",
            "Epoch 309/400\n",
            "9/9 [==============================] - 0s 7ms/step - loss: 19.4992 - mae: 2.8996 - val_loss: 9.0313 - val_mae: 2.2654\n",
            "Epoch 310/400\n",
            "9/9 [==============================] - 0s 7ms/step - loss: 19.2794 - mae: 2.9221 - val_loss: 8.1482 - val_mae: 2.2191\n",
            "Epoch 311/400\n",
            "9/9 [==============================] - 0s 7ms/step - loss: 19.5714 - mae: 2.9492 - val_loss: 7.8042 - val_mae: 2.1112\n",
            "Epoch 312/400\n",
            "9/9 [==============================] - 0s 6ms/step - loss: 19.3264 - mae: 2.9070 - val_loss: 9.0404 - val_mae: 2.2465\n",
            "Epoch 313/400\n",
            "9/9 [==============================] - 0s 6ms/step - loss: 19.3268 - mae: 2.8984 - val_loss: 8.7442 - val_mae: 2.2366\n",
            "Epoch 314/400\n",
            "9/9 [==============================] - 0s 6ms/step - loss: 19.2698 - mae: 2.9127 - val_loss: 8.6084 - val_mae: 2.1988\n",
            "Epoch 315/400\n",
            "9/9 [==============================] - 0s 6ms/step - loss: 19.3557 - mae: 2.9469 - val_loss: 8.4160 - val_mae: 2.1949\n",
            "Epoch 316/400\n",
            "9/9 [==============================] - 0s 6ms/step - loss: 19.4743 - mae: 2.9392 - val_loss: 8.6723 - val_mae: 2.1475\n",
            "Epoch 317/400\n",
            "9/9 [==============================] - 0s 7ms/step - loss: 19.4679 - mae: 2.8909 - val_loss: 8.5509 - val_mae: 2.2038\n",
            "Epoch 318/400\n",
            "9/9 [==============================] - 0s 7ms/step - loss: 19.2960 - mae: 2.9041 - val_loss: 8.5694 - val_mae: 2.2582\n",
            "Epoch 319/400\n",
            "9/9 [==============================] - 0s 7ms/step - loss: 19.4272 - mae: 2.9515 - val_loss: 8.8228 - val_mae: 2.2193\n",
            "Epoch 320/400\n",
            "9/9 [==============================] - 0s 9ms/step - loss: 19.5284 - mae: 2.9282 - val_loss: 9.3920 - val_mae: 2.2671\n",
            "Epoch 321/400\n",
            "9/9 [==============================] - 0s 9ms/step - loss: 19.3525 - mae: 2.9183 - val_loss: 8.0259 - val_mae: 2.1799\n",
            "Epoch 322/400\n",
            "9/9 [==============================] - 0s 7ms/step - loss: 19.2856 - mae: 2.9170 - val_loss: 8.6366 - val_mae: 2.1873\n",
            "Epoch 323/400\n",
            "9/9 [==============================] - 0s 6ms/step - loss: 19.2735 - mae: 2.9090 - val_loss: 8.1855 - val_mae: 2.1824\n",
            "Epoch 324/400\n",
            "9/9 [==============================] - 0s 6ms/step - loss: 19.3300 - mae: 2.9058 - val_loss: 8.3958 - val_mae: 2.2147\n",
            "Epoch 325/400\n",
            "9/9 [==============================] - 0s 7ms/step - loss: 19.3306 - mae: 2.8958 - val_loss: 9.0081 - val_mae: 2.1623\n",
            "Epoch 326/400\n",
            "9/9 [==============================] - 0s 6ms/step - loss: 19.4303 - mae: 2.9510 - val_loss: 7.9442 - val_mae: 2.1635\n",
            "Epoch 327/400\n",
            "9/9 [==============================] - 0s 6ms/step - loss: 19.2478 - mae: 2.9206 - val_loss: 8.7921 - val_mae: 2.2108\n",
            "Epoch 328/400\n",
            "9/9 [==============================] - 0s 6ms/step - loss: 19.4885 - mae: 2.9076 - val_loss: 8.1491 - val_mae: 2.1817\n",
            "Epoch 329/400\n",
            "9/9 [==============================] - 0s 6ms/step - loss: 19.6636 - mae: 2.9076 - val_loss: 9.2904 - val_mae: 2.2298\n",
            "Epoch 330/400\n",
            "9/9 [==============================] - 0s 6ms/step - loss: 19.3344 - mae: 2.9389 - val_loss: 8.0952 - val_mae: 2.2170\n",
            "Epoch 331/400\n",
            "9/9 [==============================] - 0s 6ms/step - loss: 19.2683 - mae: 2.9530 - val_loss: 8.6373 - val_mae: 2.2458\n",
            "Epoch 332/400\n",
            "9/9 [==============================] - 0s 6ms/step - loss: 19.5095 - mae: 2.8886 - val_loss: 9.1639 - val_mae: 2.2086\n",
            "Epoch 333/400\n",
            "9/9 [==============================] - 0s 9ms/step - loss: 19.8510 - mae: 2.9634 - val_loss: 8.5649 - val_mae: 2.1908\n",
            "Epoch 334/400\n",
            "9/9 [==============================] - 0s 6ms/step - loss: 19.1879 - mae: 2.9253 - val_loss: 8.6501 - val_mae: 2.2313\n",
            "Epoch 335/400\n",
            "9/9 [==============================] - 0s 7ms/step - loss: 19.4869 - mae: 2.9175 - val_loss: 8.6581 - val_mae: 2.2474\n",
            "Epoch 336/400\n",
            "9/9 [==============================] - 0s 8ms/step - loss: 19.2414 - mae: 2.9382 - val_loss: 8.7819 - val_mae: 2.1422\n",
            "Epoch 337/400\n",
            "9/9 [==============================] - 0s 6ms/step - loss: 19.4281 - mae: 2.9166 - val_loss: 8.8774 - val_mae: 2.1537\n",
            "Epoch 338/400\n",
            "9/9 [==============================] - 0s 6ms/step - loss: 19.3432 - mae: 2.9129 - val_loss: 7.4790 - val_mae: 2.1665\n",
            "Epoch 339/400\n",
            "9/9 [==============================] - 0s 6ms/step - loss: 19.4544 - mae: 2.9022 - val_loss: 7.8479 - val_mae: 2.1718\n",
            "Epoch 340/400\n",
            "9/9 [==============================] - 0s 7ms/step - loss: 19.0775 - mae: 2.8851 - val_loss: 8.4040 - val_mae: 2.1566\n",
            "Epoch 341/400\n",
            "9/9 [==============================] - 0s 8ms/step - loss: 19.3674 - mae: 2.9569 - val_loss: 8.2867 - val_mae: 2.1413\n",
            "Epoch 342/400\n",
            "9/9 [==============================] - 0s 6ms/step - loss: 19.1432 - mae: 2.8949 - val_loss: 8.7752 - val_mae: 2.1800\n",
            "Epoch 343/400\n",
            "9/9 [==============================] - 0s 5ms/step - loss: 19.3066 - mae: 2.8949 - val_loss: 8.9491 - val_mae: 2.2200\n",
            "Epoch 344/400\n",
            "9/9 [==============================] - 0s 6ms/step - loss: 19.3122 - mae: 2.9254 - val_loss: 7.8646 - val_mae: 2.1623\n",
            "Epoch 345/400\n",
            "9/9 [==============================] - 0s 6ms/step - loss: 19.5577 - mae: 2.9220 - val_loss: 8.7508 - val_mae: 2.2147\n",
            "Epoch 346/400\n",
            "9/9 [==============================] - 0s 6ms/step - loss: 19.0657 - mae: 2.8847 - val_loss: 8.3623 - val_mae: 2.1808\n",
            "Epoch 347/400\n",
            "9/9 [==============================] - 0s 7ms/step - loss: 19.2114 - mae: 2.9442 - val_loss: 8.3328 - val_mae: 2.1502\n",
            "Epoch 348/400\n",
            "9/9 [==============================] - 0s 8ms/step - loss: 19.2875 - mae: 2.9194 - val_loss: 8.9507 - val_mae: 2.1469\n",
            "Epoch 349/400\n",
            "9/9 [==============================] - 0s 9ms/step - loss: 19.2277 - mae: 2.8896 - val_loss: 7.9110 - val_mae: 2.1910\n",
            "Epoch 350/400\n",
            "9/9 [==============================] - 0s 12ms/step - loss: 19.4002 - mae: 2.9415 - val_loss: 7.5368 - val_mae: 2.1110\n",
            "Epoch 351/400\n",
            "9/9 [==============================] - 0s 9ms/step - loss: 19.4548 - mae: 2.8970 - val_loss: 9.0432 - val_mae: 2.1853\n",
            "Epoch 352/400\n",
            "9/9 [==============================] - 0s 11ms/step - loss: 19.4630 - mae: 2.9229 - val_loss: 8.1632 - val_mae: 2.1513\n",
            "Epoch 353/400\n",
            "9/9 [==============================] - 0s 10ms/step - loss: 19.1376 - mae: 2.9083 - val_loss: 8.1857 - val_mae: 2.1964\n",
            "Epoch 354/400\n",
            "9/9 [==============================] - 0s 8ms/step - loss: 19.3557 - mae: 2.8900 - val_loss: 8.8815 - val_mae: 2.1890\n",
            "Epoch 355/400\n",
            "9/9 [==============================] - 0s 12ms/step - loss: 19.2762 - mae: 2.9365 - val_loss: 7.8899 - val_mae: 2.2231\n",
            "Epoch 356/400\n",
            "9/9 [==============================] - 0s 11ms/step - loss: 19.3463 - mae: 2.9448 - val_loss: 9.2726 - val_mae: 2.1692\n",
            "Epoch 357/400\n",
            "9/9 [==============================] - 0s 9ms/step - loss: 19.6759 - mae: 2.9578 - val_loss: 7.9424 - val_mae: 2.1654\n",
            "Epoch 358/400\n",
            "9/9 [==============================] - 0s 8ms/step - loss: 19.3745 - mae: 2.8978 - val_loss: 8.8547 - val_mae: 2.2222\n",
            "Epoch 359/400\n",
            "9/9 [==============================] - 0s 9ms/step - loss: 19.2878 - mae: 2.8956 - val_loss: 8.2284 - val_mae: 2.1588\n",
            "Epoch 360/400\n",
            "9/9 [==============================] - 0s 9ms/step - loss: 19.4379 - mae: 2.9483 - val_loss: 8.4496 - val_mae: 2.2045\n",
            "Epoch 361/400\n",
            "9/9 [==============================] - 0s 10ms/step - loss: 19.1244 - mae: 2.9029 - val_loss: 8.3946 - val_mae: 2.1530\n",
            "Epoch 362/400\n",
            "9/9 [==============================] - 0s 13ms/step - loss: 19.1714 - mae: 2.9049 - val_loss: 8.3856 - val_mae: 2.1430\n",
            "Epoch 363/400\n",
            "9/9 [==============================] - 0s 9ms/step - loss: 19.4270 - mae: 2.9198 - val_loss: 8.6735 - val_mae: 2.2006\n",
            "Epoch 364/400\n",
            "9/9 [==============================] - 0s 12ms/step - loss: 19.0930 - mae: 2.9061 - val_loss: 8.0077 - val_mae: 2.1574\n",
            "Epoch 365/400\n",
            "9/9 [==============================] - 0s 9ms/step - loss: 19.1551 - mae: 2.8970 - val_loss: 7.8926 - val_mae: 2.1655\n",
            "Epoch 366/400\n",
            "9/9 [==============================] - 0s 7ms/step - loss: 19.1456 - mae: 2.8889 - val_loss: 7.9582 - val_mae: 2.1236\n",
            "Epoch 367/400\n",
            "9/9 [==============================] - 0s 10ms/step - loss: 19.1337 - mae: 2.8974 - val_loss: 7.8359 - val_mae: 2.1179\n",
            "Epoch 368/400\n",
            "9/9 [==============================] - 0s 8ms/step - loss: 19.2194 - mae: 2.9051 - val_loss: 8.5114 - val_mae: 2.1178\n",
            "Epoch 369/400\n",
            "9/9 [==============================] - 0s 9ms/step - loss: 19.1562 - mae: 2.8763 - val_loss: 8.4635 - val_mae: 2.1740\n",
            "Epoch 370/400\n",
            "9/9 [==============================] - 0s 8ms/step - loss: 19.3895 - mae: 2.8972 - val_loss: 8.3520 - val_mae: 2.2064\n",
            "Epoch 371/400\n",
            "9/9 [==============================] - 0s 12ms/step - loss: 19.7379 - mae: 2.9618 - val_loss: 8.7990 - val_mae: 2.1363\n",
            "Epoch 372/400\n",
            "9/9 [==============================] - 0s 12ms/step - loss: 19.3722 - mae: 2.9144 - val_loss: 8.0498 - val_mae: 2.2473\n",
            "Epoch 373/400\n",
            "9/9 [==============================] - 0s 13ms/step - loss: 19.2229 - mae: 2.9095 - val_loss: 7.6079 - val_mae: 2.1663\n",
            "Epoch 374/400\n",
            "9/9 [==============================] - 0s 13ms/step - loss: 19.0729 - mae: 2.8979 - val_loss: 8.5497 - val_mae: 2.1623\n",
            "Epoch 375/400\n",
            "9/9 [==============================] - 0s 10ms/step - loss: 19.1986 - mae: 2.9078 - val_loss: 8.8067 - val_mae: 2.1348\n",
            "Epoch 376/400\n",
            "9/9 [==============================] - 0s 6ms/step - loss: 19.1982 - mae: 2.8887 - val_loss: 8.0204 - val_mae: 2.1843\n",
            "Epoch 377/400\n",
            "9/9 [==============================] - 0s 6ms/step - loss: 19.3149 - mae: 2.8922 - val_loss: 8.1636 - val_mae: 2.1495\n",
            "Epoch 378/400\n",
            "9/9 [==============================] - 0s 6ms/step - loss: 19.4490 - mae: 2.9371 - val_loss: 7.6248 - val_mae: 2.1203\n",
            "Epoch 379/400\n",
            "9/9 [==============================] - 0s 7ms/step - loss: 19.2373 - mae: 2.8919 - val_loss: 8.1871 - val_mae: 2.1523\n",
            "Epoch 380/400\n",
            "9/9 [==============================] - 0s 6ms/step - loss: 19.2063 - mae: 2.8957 - val_loss: 8.3503 - val_mae: 2.1527\n",
            "Epoch 381/400\n",
            "9/9 [==============================] - 0s 8ms/step - loss: 19.1283 - mae: 2.8855 - val_loss: 8.4669 - val_mae: 2.1509\n",
            "Epoch 382/400\n",
            "9/9 [==============================] - 0s 6ms/step - loss: 19.1044 - mae: 2.8901 - val_loss: 8.0494 - val_mae: 2.1438\n",
            "Epoch 383/400\n",
            "9/9 [==============================] - 0s 6ms/step - loss: 19.1730 - mae: 2.9117 - val_loss: 8.1613 - val_mae: 2.1929\n",
            "Epoch 384/400\n",
            "9/9 [==============================] - 0s 6ms/step - loss: 19.1259 - mae: 2.8996 - val_loss: 8.8390 - val_mae: 2.1686\n",
            "Epoch 385/400\n",
            "9/9 [==============================] - 0s 6ms/step - loss: 19.0922 - mae: 2.8931 - val_loss: 8.4841 - val_mae: 2.1781\n",
            "Epoch 386/400\n",
            "9/9 [==============================] - 0s 10ms/step - loss: 19.1505 - mae: 2.9021 - val_loss: 8.4212 - val_mae: 2.1647\n",
            "Epoch 387/400\n",
            "9/9 [==============================] - 0s 6ms/step - loss: 19.1035 - mae: 2.8846 - val_loss: 7.9613 - val_mae: 2.1686\n",
            "Epoch 388/400\n",
            "9/9 [==============================] - 0s 8ms/step - loss: 19.1724 - mae: 2.8932 - val_loss: 8.1244 - val_mae: 2.1341\n",
            "Epoch 389/400\n",
            "9/9 [==============================] - 0s 6ms/step - loss: 19.2526 - mae: 2.8977 - val_loss: 8.2526 - val_mae: 2.1454\n",
            "Epoch 390/400\n",
            "9/9 [==============================] - 0s 5ms/step - loss: 19.2425 - mae: 2.9131 - val_loss: 7.9484 - val_mae: 2.1413\n",
            "Epoch 391/400\n",
            "9/9 [==============================] - 0s 5ms/step - loss: 19.0709 - mae: 2.9073 - val_loss: 8.5179 - val_mae: 2.1696\n",
            "Epoch 392/400\n",
            "9/9 [==============================] - 0s 5ms/step - loss: 19.4783 - mae: 2.8858 - val_loss: 8.7931 - val_mae: 2.1378\n",
            "Epoch 393/400\n",
            "9/9 [==============================] - 0s 6ms/step - loss: 19.0930 - mae: 2.9174 - val_loss: 8.0129 - val_mae: 2.1683\n",
            "Epoch 394/400\n",
            "9/9 [==============================] - 0s 6ms/step - loss: 19.3265 - mae: 2.9629 - val_loss: 8.1587 - val_mae: 2.1231\n",
            "Epoch 395/400\n",
            "9/9 [==============================] - 0s 6ms/step - loss: 19.4910 - mae: 2.8964 - val_loss: 8.5188 - val_mae: 2.1760\n",
            "Epoch 396/400\n",
            "9/9 [==============================] - 0s 7ms/step - loss: 19.3013 - mae: 2.8879 - val_loss: 7.8230 - val_mae: 2.1284\n",
            "Epoch 397/400\n",
            "9/9 [==============================] - 0s 7ms/step - loss: 19.2609 - mae: 2.9249 - val_loss: 8.2543 - val_mae: 2.1447\n",
            "Epoch 398/400\n",
            "9/9 [==============================] - 0s 7ms/step - loss: 19.1215 - mae: 2.8983 - val_loss: 8.0927 - val_mae: 2.1495\n",
            "Epoch 399/400\n",
            "9/9 [==============================] - 0s 6ms/step - loss: 19.4501 - mae: 2.9056 - val_loss: 9.0792 - val_mae: 2.1970\n",
            "Epoch 400/400\n",
            "9/9 [==============================] - 0s 6ms/step - loss: 19.5565 - mae: 2.9551 - val_loss: 7.9768 - val_mae: 2.1391\n"
          ]
        },
        {
          "output_type": "execute_result",
          "data": {
            "text/plain": [
              "<keras.callbacks.History at 0x7f980c908520>"
            ]
          },
          "metadata": {},
          "execution_count": 63
        }
      ]
    },
    {
      "cell_type": "code",
      "source": [
        "output = model.evaluate(x_test,y_test)\n"
      ],
      "metadata": {
        "colab": {
          "base_uri": "https://localhost:8080/"
        },
        "id": "tqz8Fg3MCvPL",
        "outputId": "f5cc1675-2873-4766-a8e1-fb2a9528abf6"
      },
      "execution_count": null,
      "outputs": [
        {
          "output_type": "stream",
          "name": "stdout",
          "text": [
            "4/4 [==============================] - 0s 4ms/step - loss: 10.4181 - mae: 2.5443\n"
          ]
        }
      ]
    },
    {
      "cell_type": "code",
      "source": [
        "print(f\"Mean Squared Error: {output[0]}\"\n",
        "      ,f\"Mean Absolute Error: {output[1]}\",sep=\"\\n\")"
      ],
      "metadata": {
        "colab": {
          "base_uri": "https://localhost:8080/"
        },
        "id": "BIgclCGRCy3f",
        "outputId": "56f4997a-f85d-4b21-c4e0-16fb8798b2af"
      },
      "execution_count": null,
      "outputs": [
        {
          "output_type": "stream",
          "name": "stdout",
          "text": [
            "Mean Squared Error: 10.418131828308105\n",
            "Mean Absolute Error: 2.54429292678833\n"
          ]
        }
      ]
    },
    {
      "cell_type": "code",
      "source": [
        "\n",
        "y_pred = model.predict(x=x_test)"
      ],
      "metadata": {
        "colab": {
          "base_uri": "https://localhost:8080/"
        },
        "id": "ztw62WeSDB4G",
        "outputId": "51063d49-8871-425a-948f-c663f2d5c3f0"
      },
      "execution_count": null,
      "outputs": [
        {
          "output_type": "stream",
          "name": "stdout",
          "text": [
            "4/4 [==============================] - 0s 3ms/step\n"
          ]
        }
      ]
    },
    {
      "cell_type": "code",
      "source": [
        "mse = mean_squared_error(y_test, y_pred)\n",
        "mae = mean_absolute_error(y_test, y_pred)\n",
        "print(\"Mean Squared Error:\", mse)\n",
        "print(\"Mean Absolute Error:\", mae)"
      ],
      "metadata": {
        "colab": {
          "base_uri": "https://localhost:8080/"
        },
        "id": "ykdk9U5zFU37",
        "outputId": "9731b33b-5c27-4936-e522-47adce4bac9f"
      },
      "execution_count": null,
      "outputs": [
        {
          "output_type": "stream",
          "name": "stdout",
          "text": [
            "Mean Squared Error: 10.41813169185236\n",
            "Mean Absolute Error: 2.544293072247746\n"
          ]
        }
      ]
    },
    {
      "cell_type": "code",
      "source": [
        "import matplotlib.pyplot as plt\n",
        "\n",
        "# Plot the regression line\n",
        "plt.scatter(y_test, y_pred)\n",
        "plt.plot([y_test.min(), y_test.max()], [y_test.min(), y_test.max()], color='r')\n",
        "plt.xlabel('Actual Value')\n",
        "plt.ylabel('Predicted Value')\n",
        "plt.title('Regression Line')\n",
        "plt.show()"
      ],
      "metadata": {
        "colab": {
          "base_uri": "https://localhost:8080/",
          "height": 472
        },
        "id": "LAl56yH4Felv",
        "outputId": "b6d57f81-9951-43c4-d029-36d4c6d401ee"
      },
      "execution_count": null,
      "outputs": [
        {
          "output_type": "display_data",
          "data": {
            "text/plain": [
              "<Figure size 640x480 with 1 Axes>"
            ],
            "image/png": "[encoded data removed]"
          },
          "metadata": {}
        }
      ]
    },
    {
      "cell_type": "markdown",
      "source": [
        "**Assignment 2- Classification using CNN**"
      ],
      "metadata": {
        "id": "IYPEuZnAKHbX"
      }
    },
    {
      "cell_type": "code",
      "source": [
        "\n",
        "import matplotlib.pyplot as plt\n",
        "import pandas as pd\n",
        "import numpy as np\n"
      ],
      "metadata": {
        "id": "Ws7-fm2NF7FX"
      },
      "execution_count": 15,
      "outputs": []
    },
    {
      "cell_type": "code",
      "source": [
        "train_df = pd.read_csv('/content/fashion-mnist_train.csv')\n",
        "test_df = pd.read_csv('/content/fashion-mnist_test.csv')"
      ],
      "metadata": {
        "id": "bCfqyYj4KWSU"
      },
      "execution_count": 18,
      "outputs": []
    },
    {
      "cell_type": "code",
      "source": [
        "train_df.shape\n"
      ],
      "metadata": {
        "colab": {
          "base_uri": "https://localhost:8080/"
        },
        "id": "B9cXI6P5LM6P",
        "outputId": "672e2a26-1260-4f23-8783-71e3c2ad2c94"
      },
      "execution_count": 19,
      "outputs": [
        {
          "output_type": "execute_result",
          "data": {
            "text/plain": [
              "(471, 785)"
            ]
          },
          "metadata": {},
          "execution_count": 19
        }
      ]
    },
    {
      "cell_type": "code",
      "source": [
        "test_df.shape"
      ],
      "metadata": {
        "colab": {
          "base_uri": "https://localhost:8080/"
        },
        "id": "FpM_bWX3LOBO",
        "outputId": "20d80a76-6cac-4eb1-f525-fd3bc93573e0"
      },
      "execution_count": 20,
      "outputs": [
        {
          "output_type": "execute_result",
          "data": {
            "text/plain": [
              "(468, 785)"
            ]
          },
          "metadata": {},
          "execution_count": 20
        }
      ]
    },
    {
      "cell_type": "code",
      "source": [
        "train_df.describe()"
      ],
      "metadata": {
        "colab": {
          "base_uri": "https://localhost:8080/",
          "height": 393
        },
        "id": "liRFxt9SLVtJ",
        "outputId": "a02addfb-fa23-44de-8c0b-bbb8ec04d53e"
      },
      "execution_count": 21,
      "outputs": [
        {
          "output_type": "execute_result",
          "data": {
            "text/plain": [
              "            label      pixel1      pixel2      pixel3      pixel4      pixel5  \\\n",
              "count  471.000000  471.000000  471.000000  471.000000  471.000000  471.000000   \n",
              "mean     4.560510    0.029724    0.029724    0.048832    0.106157    0.167728   \n",
              "std      2.820904    0.645086    0.482863    0.505032    0.998608    1.424519   \n",
              "min      0.000000    0.000000    0.000000    0.000000    0.000000    0.000000   \n",
              "25%      2.000000    0.000000    0.000000    0.000000    0.000000    0.000000   \n",
              "50%      4.000000    0.000000    0.000000    0.000000    0.000000    0.000000   \n",
              "75%      7.000000    0.000000    0.000000    0.000000    0.000000    0.000000   \n",
              "max      9.000000   14.000000   10.000000   10.000000   20.000000   26.000000   \n",
              "\n",
              "           pixel6      pixel7      pixel8      pixel9  ...    pixel775  \\\n",
              "count  471.000000  471.000000  471.000000  471.000000  ...  470.000000   \n",
              "mean     0.333333    0.615711    1.876858    4.887473  ...   32.523404   \n",
              "std      2.679579    6.074965   11.526921   20.032157  ...   54.726286   \n",
              "min      0.000000    0.000000    0.000000    0.000000  ...    0.000000   \n",
              "25%      0.000000    0.000000    0.000000    0.000000  ...    0.000000   \n",
              "50%      0.000000    0.000000    0.000000    0.000000  ...    0.000000   \n",
              "75%      0.000000    0.000000    0.000000    0.000000  ...   51.750000   \n",
              "max     50.000000  121.000000  175.000000  198.000000  ...  227.000000   \n",
              "\n",
              "         pixel776    pixel777    pixel778    pixel779    pixel780    pixel781  \\\n",
              "count  470.000000  470.000000  470.000000  470.000000  470.000000  470.000000   \n",
              "mean    21.702128   14.331915   14.272340   20.731915   18.421277   10.651064   \n",
              "std     45.035743   36.548832   37.052407   48.454410   46.048843   32.650073   \n",
              "min      0.000000    0.000000    0.000000    0.000000    0.000000    0.000000   \n",
              "25%      0.000000    0.000000    0.000000    0.000000    0.000000    0.000000   \n",
              "50%      0.000000    0.000000    0.000000    0.000000    0.000000    0.000000   \n",
              "75%     13.750000    0.000000    0.000000    1.000000    0.000000    0.000000   \n",
              "max    216.000000  219.000000  222.000000  233.000000  237.000000  234.000000   \n",
              "\n",
              "         pixel782    pixel783    pixel784  \n",
              "count  470.000000  470.000000  470.000000  \n",
              "mean     3.919149    0.968085    0.093617  \n",
              "std     18.935584    8.238518    1.490468  \n",
              "min      0.000000    0.000000    0.000000  \n",
              "25%      0.000000    0.000000    0.000000  \n",
              "50%      0.000000    0.000000    0.000000  \n",
              "75%      0.000000    0.000000    0.000000  \n",
              "max    168.000000  112.000000   30.000000  \n",
              "\n",
              "[8 rows x 785 columns]"
            ],
            "text/html": [
              "\n",
              "  <div id=\"df-82ee5a62-762f-490e-82a4-23c67958e50e\">\n",
              "    <div class=\"colab-df-container\">\n",
              "      <div>\n",
              "<style scoped>\n",
              "    .dataframe tbody tr th:only-of-type {\n",
              "        vertical-align: middle;\n",
              "    }\n",
              "\n",
              "    .dataframe tbody tr th {\n",
              "        vertical-align: top;\n",
              "    }\n",
              "\n",
              "    .dataframe thead th {\n",
              "        text-align: right;\n",
              "    }\n",
              "</style>\n",
              "<table border=\"1\" class=\"dataframe\">\n",
              "  <thead>\n",
              "    <tr style=\"text-align: right;\">\n",
              "      <th></th>\n",
              "      <th>label</th>\n",
              "      <th>pixel1</th>\n",
              "      <th>pixel2</th>\n",
              "      <th>pixel3</th>\n",
              "      <th>pixel4</th>\n",
              "      <th>pixel5</th>\n",
              "      <th>pixel6</th>\n",
              "      <th>pixel7</th>\n",
              "      <th>pixel8</th>\n",
              "      <th>pixel9</th>\n",
              "      <th>...</th>\n",
              "      <th>pixel775</th>\n",
              "      <th>pixel776</th>\n",
              "      <th>pixel777</th>\n",
              "      <th>pixel778</th>\n",
              "      <th>pixel779</th>\n",
              "      <th>pixel780</th>\n",
              "      <th>pixel781</th>\n",
              "      <th>pixel782</th>\n",
              "      <th>pixel783</th>\n",
              "      <th>pixel784</th>\n",
              "    </tr>\n",
              "  </thead>\n",
              "  <tbody>\n",
              "    <tr>\n",
              "      <th>count</th>\n",
              "      <td>471.000000</td>\n",
              "      <td>471.000000</td>\n",
              "      <td>471.000000</td>\n",
              "      <td>471.000000</td>\n",
              "      <td>471.000000</td>\n",
              "      <td>471.000000</td>\n",
              "      <td>471.000000</td>\n",
              "      <td>471.000000</td>\n",
              "      <td>471.000000</td>\n",
              "      <td>471.000000</td>\n",
              "      <td>...</td>\n",
              "      <td>470.000000</td>\n",
              "      <td>470.000000</td>\n",
              "      <td>470.000000</td>\n",
              "      <td>470.000000</td>\n",
              "      <td>470.000000</td>\n",
              "      <td>470.000000</td>\n",
              "      <td>470.000000</td>\n",
              "      <td>470.000000</td>\n",
              "      <td>470.000000</td>\n",
              "      <td>470.000000</td>\n",
              "    </tr>\n",
              "    <tr>\n",
              "      <th>mean</th>\n",
              "      <td>4.560510</td>\n",
              "      <td>0.029724</td>\n",
              "      <td>0.029724</td>\n",
              "      <td>0.048832</td>\n",
              "      <td>0.106157</td>\n",
              "      <td>0.167728</td>\n",
              "      <td>0.333333</td>\n",
              "      <td>0.615711</td>\n",
              "      <td>1.876858</td>\n",
              "      <td>4.887473</td>\n",
              "      <td>...</td>\n",
              "      <td>32.523404</td>\n",
              "      <td>21.702128</td>\n",
              "      <td>14.331915</td>\n",
              "      <td>14.272340</td>\n",
              "      <td>20.731915</td>\n",
              "      <td>18.421277</td>\n",
              "      <td>10.651064</td>\n",
              "      <td>3.919149</td>\n",
              "      <td>0.968085</td>\n",
              "      <td>0.093617</td>\n",
              "    </tr>\n",
              "    <tr>\n",
              "      <th>std</th>\n",
              "      <td>2.820904</td>\n",
              "      <td>0.645086</td>\n",
              "      <td>0.482863</td>\n",
              "      <td>0.505032</td>\n",
              "      <td>0.998608</td>\n",
              "      <td>1.424519</td>\n",
              "      <td>2.679579</td>\n",
              "      <td>6.074965</td>\n",
              "      <td>11.526921</td>\n",
              "      <td>20.032157</td>\n",
              "      <td>...</td>\n",
              "      <td>54.726286</td>\n",
              "      <td>45.035743</td>\n",
              "      <td>36.548832</td>\n",
              "      <td>37.052407</td>\n",
              "      <td>48.454410</td>\n",
              "      <td>46.048843</td>\n",
              "      <td>32.650073</td>\n",
              "      <td>18.935584</td>\n",
              "      <td>8.238518</td>\n",
              "      <td>1.490468</td>\n",
              "    </tr>\n",
              "    <tr>\n",
              "      <th>min</th>\n",
              "      <td>0.000000</td>\n",
              "      <td>0.000000</td>\n",
              "      <td>0.000000</td>\n",
              "      <td>0.000000</td>\n",
              "      <td>0.000000</td>\n",
              "      <td>0.000000</td>\n",
              "      <td>0.000000</td>\n",
              "      <td>0.000000</td>\n",
              "      <td>0.000000</td>\n",
              "      <td>0.000000</td>\n",
              "      <td>...</td>\n",
              "      <td>0.000000</td>\n",
              "      <td>0.000000</td>\n",
              "      <td>0.000000</td>\n",
              "      <td>0.000000</td>\n",
              "      <td>0.000000</td>\n",
              "      <td>0.000000</td>\n",
              "      <td>0.000000</td>\n",
              "      <td>0.000000</td>\n",
              "      <td>0.000000</td>\n",
              "      <td>0.000000</td>\n",
              "    </tr>\n",
              "    <tr>\n",
              "      <th>25%</th>\n",
              "      <td>2.000000</td>\n",
              "      <td>0.000000</td>\n",
              "      <td>0.000000</td>\n",
              "      <td>0.000000</td>\n",
              "      <td>0.000000</td>\n",
              "      <td>0.000000</td>\n",
              "      <td>0.000000</td>\n",
              "      <td>0.000000</td>\n",
              "      <td>0.000000</td>\n",
              "      <td>0.000000</td>\n",
              "      <td>...</td>\n",
              "      <td>0.000000</td>\n",
              "      <td>0.000000</td>\n",
              "      <td>0.000000</td>\n",
              "      <td>0.000000</td>\n",
              "      <td>0.000000</td>\n",
              "      <td>0.000000</td>\n",
              "      <td>0.000000</td>\n",
              "      <td>0.000000</td>\n",
              "      <td>0.000000</td>\n",
              "      <td>0.000000</td>\n",
              "    </tr>\n",
              "    <tr>\n",
              "      <th>50%</th>\n",
              "      <td>4.000000</td>\n",
              "      <td>0.000000</td>\n",
              "      <td>0.000000</td>\n",
              "      <td>0.000000</td>\n",
              "      <td>0.000000</td>\n",
              "      <td>0.000000</td>\n",
              "      <td>0.000000</td>\n",
              "      <td>0.000000</td>\n",
              "      <td>0.000000</td>\n",
              "      <td>0.000000</td>\n",
              "      <td>...</td>\n",
              "      <td>0.000000</td>\n",
              "      <td>0.000000</td>\n",
              "      <td>0.000000</td>\n",
              "      <td>0.000000</td>\n",
              "      <td>0.000000</td>\n",
              "      <td>0.000000</td>\n",
              "      <td>0.000000</td>\n",
              "      <td>0.000000</td>\n",
              "      <td>0.000000</td>\n",
              "      <td>0.000000</td>\n",
              "    </tr>\n",
              "    <tr>\n",
              "      <th>75%</th>\n",
              "      <td>7.000000</td>\n",
              "      <td>0.000000</td>\n",
              "      <td>0.000000</td>\n",
              "      <td>0.000000</td>\n",
              "      <td>0.000000</td>\n",
              "      <td>0.000000</td>\n",
              "      <td>0.000000</td>\n",
              "      <td>0.000000</td>\n",
              "      <td>0.000000</td>\n",
              "      <td>0.000000</td>\n",
              "      <td>...</td>\n",
              "      <td>51.750000</td>\n",
              "      <td>13.750000</td>\n",
              "      <td>0.000000</td>\n",
              "      <td>0.000000</td>\n",
              "      <td>1.000000</td>\n",
              "      <td>0.000000</td>\n",
              "      <td>0.000000</td>\n",
              "      <td>0.000000</td>\n",
              "      <td>0.000000</td>\n",
              "      <td>0.000000</td>\n",
              "    </tr>\n",
              "    <tr>\n",
              "      <th>max</th>\n",
              "      <td>9.000000</td>\n",
              "      <td>14.000000</td>\n",
              "      <td>10.000000</td>\n",
              "      <td>10.000000</td>\n",
              "      <td>20.000000</td>\n",
              "      <td>26.000000</td>\n",
              "      <td>50.000000</td>\n",
              "      <td>121.000000</td>\n",
              "      <td>175.000000</td>\n",
              "      <td>198.000000</td>\n",
              "      <td>...</td>\n",
              "      <td>227.000000</td>\n",
              "      <td>216.000000</td>\n",
              "      <td>219.000000</td>\n",
              "      <td>222.000000</td>\n",
              "      <td>233.000000</td>\n",
              "      <td>237.000000</td>\n",
              "      <td>234.000000</td>\n",
              "      <td>168.000000</td>\n",
              "      <td>112.000000</td>\n",
              "      <td>30.000000</td>\n",
              "    </tr>\n",
              "  </tbody>\n",
              "</table>\n",
              "<p>8 rows × 785 columns</p>\n",
              "</div>\n",
              "      <button class=\"colab-df-convert\" onclick=\"convertToInteractive('df-82ee5a62-762f-490e-82a4-23c67958e50e')\"\n",
              "              title=\"Convert this dataframe to an interactive table.\"\n",
              "              style=\"display:none;\">\n",
              "        \n",
              "  <svg xmlns=\"http://www.w3.org/2000/svg\" height=\"24px\"viewBox=\"0 0 24 24\"\n",
              "       width=\"24px\">\n",
              "    <path d=\"M0 0h24v24H0V0z\" fill=\"none\"/>\n",
              "    <path d=\"M18.56 5.44l.94 2.06.94-2.06 2.06-.94-2.06-.94-.94-2.06-.94 2.06-2.06.94zm-11 1L8.5 8.5l.94-2.06 2.06-.94-2.06-.94L8.5 2.5l-.94 2.06-2.06.94zm10 10l.94 2.06.94-2.06 2.06-.94-2.06-.94-.94-2.06-.94 2.06-2.06.94z\"/><path d=\"M17.41 7.96l-1.37-1.37c-.4-.4-.92-.59-1.43-.59-.52 0-1.04.2-1.43.59L10.3 9.45l-7.72 7.72c-.78.78-.78 2.05 0 2.83L4 21.41c.39.39.9.59 1.41.59.51 0 1.02-.2 1.41-.59l7.78-7.78 2.81-2.81c.8-.78.8-2.07 0-2.86zM5.41 20L4 18.59l7.72-7.72 1.47 1.35L5.41 20z\"/>\n",
              "  </svg>\n",
              "      </button>\n",
              "      \n",
              "  <style>\n",
              "    .colab-df-container {\n",
              "      display:flex;\n",
              "      flex-wrap:wrap;\n",
              "      gap: 12px;\n",
              "    }\n",
              "\n",
              "    .colab-df-convert {\n",
              "      background-color: #E8F0FE;\n",
              "      border: none;\n",
              "      border-radius: 50%;\n",
              "      cursor: pointer;\n",
              "      display: none;\n",
              "      fill: #1967D2;\n",
              "      height: 32px;\n",
              "      padding: 0 0 0 0;\n",
              "      width: 32px;\n",
              "    }\n",
              "\n",
              "    .colab-df-convert:hover {\n",
              "      background-color: #E2EBFA;\n",
              "      box-shadow: 0px 1px 2px rgba(60, 64, 67, 0.3), 0px 1px 3px 1px rgba(60, 64, 67, 0.15);\n",
              "      fill: #174EA6;\n",
              "    }\n",
              "\n",
              "    [theme=dark] .colab-df-convert {\n",
              "      background-color: #3B4455;\n",
              "      fill: #D2E3FC;\n",
              "    }\n",
              "\n",
              "    [theme=dark] .colab-df-convert:hover {\n",
              "      background-color: #434B5C;\n",
              "      box-shadow: 0px 1px 3px 1px rgba(0, 0, 0, 0.15);\n",
              "      filter: drop-shadow(0px 1px 2px rgba(0, 0, 0, 0.3));\n",
              "      fill: #FFFFFF;\n",
              "    }\n",
              "  </style>\n",
              "\n",
              "      <script>\n",
              "        const buttonEl =\n",
              "          document.querySelector('#df-82ee5a62-762f-490e-82a4-23c67958e50e button.colab-df-convert');\n",
              "        buttonEl.style.display =\n",
              "          google.colab.kernel.accessAllowed ? 'block' : 'none';\n",
              "\n",
              "        async function convertToInteractive(key) {\n",
              "          const element = document.querySelector('#df-82ee5a62-762f-490e-82a4-23c67958e50e');\n",
              "          const dataTable =\n",
              "            await google.colab.kernel.invokeFunction('convertToInteractive',\n",
              "                                                     [key], {});\n",
              "          if (!dataTable) return;\n",
              "\n",
              "          const docLinkHtml = 'Like what you see? Visit the ' +\n",
              "            '<a target=\"_blank\" href=https://colab.research.google.com/notebooks/data_table.ipynb>data table notebook</a>'\n",
              "            + ' to learn more about interactive tables.';\n",
              "          element.innerHTML = '';\n",
              "          dataTable['output_type'] = 'display_data';\n",
              "          await google.colab.output.renderOutput(dataTable, element);\n",
              "          const docLink = document.createElement('div');\n",
              "          docLink.innerHTML = docLinkHtml;\n",
              "          element.appendChild(docLink);\n",
              "        }\n",
              "      </script>\n",
              "    </div>\n",
              "  </div>\n",
              "  "
            ]
          },
          "metadata": {},
          "execution_count": 21
        }
      ]
    },
    {
      "cell_type": "code",
      "source": [
        "train_df.label.unique()"
      ],
      "metadata": {
        "colab": {
          "base_uri": "https://localhost:8080/"
        },
        "id": "qANQRvu8LZVK",
        "outputId": "6f493574-dad6-41f2-fc97-571909c97325"
      },
      "execution_count": 22,
      "outputs": [
        {
          "output_type": "execute_result",
          "data": {
            "text/plain": [
              "array([2, 9, 6, 0, 3, 4, 5, 8, 7, 1])"
            ]
          },
          "metadata": {},
          "execution_count": 22
        }
      ]
    },
    {
      "cell_type": "markdown",
      "source": [
        "Each row represents an grayscale image containing 784 pixels and each pixel having values in range from 0-255\n",
        "The column label is a discrete value in the range 0 to 9 each value representing a specific category\n"
      ],
      "metadata": {
        "id": "NEXyDH0cLemO"
      }
    },
    {
      "cell_type": "code",
      "source": [
        "class_names = ['T-shirt/top', 'Trouser', 'Pullover', 'Dress', 'Coat','Sandal', 'Shirt', 'Sneaker', 'Bag', 'Ankle boot']\n"
      ],
      "metadata": {
        "id": "WVUh4wAWLapN"
      },
      "execution_count": 24,
      "outputs": []
    },
    {
      "cell_type": "markdown",
      "source": [
        "Preprocess Data\n",
        "Convert each image of 784 into (28x28x1)(height x width x color_channels). Divide values by 255 to scale the values."
      ],
      "metadata": {
        "id": "ZZELojJhLnyB"
      }
    },
    {
      "cell_type": "code",
      "source": [
        "x_train = train_df.iloc[:,1:].to_numpy() #iloc here, loc in previous\n",
        "x_train = x_train.reshape([-1,28,28,1])\n",
        "x_train = x_train / 255"
      ],
      "metadata": {
        "id": "SW0vND93Lmpz"
      },
      "execution_count": 25,
      "outputs": []
    },
    {
      "cell_type": "code",
      "source": [
        "y_train = train_df.iloc[:,0].to_numpy()\n"
      ],
      "metadata": {
        "id": "hEI6fmniLq3w"
      },
      "execution_count": 26,
      "outputs": []
    },
    {
      "cell_type": "code",
      "source": [
        "x_test = test_df.iloc[:,1:].to_numpy()\n",
        "x_test = x_test.reshape([-1,28,28,1])\n",
        "x_test = x_test / 255\n"
      ],
      "metadata": {
        "id": "wKGTrKLJLv1R"
      },
      "execution_count": 27,
      "outputs": []
    },
    {
      "cell_type": "code",
      "source": [
        "y_test = test_df.iloc[:,0].to_numpy()"
      ],
      "metadata": {
        "id": "1-y6vVXFL1VR"
      },
      "execution_count": 28,
      "outputs": []
    },
    {
      "cell_type": "code",
      "source": [
        "plt.figure(figsize=(10,10))\n",
        "for i in range(25):\n",
        "    plt.subplot(5,5,i+1)\n",
        "    plt.xticks([])\n",
        "    plt.yticks([])\n",
        "    plt.grid(False)\n",
        "    plt.imshow(x_train[i], cmap=plt.cm.binary)\n",
        "    plt.xlabel(class_names[y_train[i]])\n",
        "plt.show()"
      ],
      "metadata": {
        "colab": {
          "base_uri": "https://localhost:8080/",
          "height": 826
        },
        "id": "YVDb6ER0L48O",
        "outputId": "64b5ebf2-12f6-4498-f0cd-3f910d754adf"
      },
      "execution_count": 29,
      "outputs": [
        {
          "output_type": "display_data",
          "data": {
            "text/plain": [
              "<Figure size 1000x1000 with 25 Axes>"
            ],
            "image/png": "[encoded data removed]"
          },
          "metadata": {}
        }
      ]
    },
    {
      "cell_type": "code",
      "source": [
        "plt.figure(figsize=(10,10))\n",
        "for i in range(25):\n",
        "    plt.subplot(5,5,i+1)\n",
        "    plt.xticks([])\n",
        "    plt.yticks([])\n",
        "    plt.grid(False)\n",
        "    plt.imshow(x_train[i], cmap=plt.cm.binary)\n",
        "    plt.xlabel(y_train[i])\n",
        "plt.show()\n",
        "# class_names = ['T-shirt/top', 'Trouser', 'Pullover', 'Dress', 'Coat','Sandal', 'Shirt', 'Sneaker', 'Bag', 'Ankle boot']\n"
      ],
      "metadata": {
        "colab": {
          "base_uri": "https://localhost:8080/",
          "height": 426
        },
        "id": "FHr2zq9BEAMA",
        "outputId": "1cfa5b8b-bdc4-462c-9b7f-fe24c53fcfab"
      },
      "execution_count": 31,
      "outputs": [
        {
          "output_type": "display_data",
          "data": {
            "text/plain": [
              "<Figure size 640x480 with 25 Axes>"
            ],
            "image/png": "[encoded data removed]"
          },
          "metadata": {}
        }
      ]
    },
    {
      "cell_type": "markdown",
      "source": [
        "Model Building"
      ],
      "metadata": {
        "id": "-cs5tHrhL870"
      }
    },
    {
      "cell_type": "code",
      "source": [
        "from keras.models import Sequential\n",
        "from keras.layers import Dense,Conv2D,Flatten,MaxPooling2D,Dropout\n"
      ],
      "metadata": {
        "id": "64GMdllVL6Z7"
      },
      "execution_count": null,
      "outputs": []
    },
    {
      "cell_type": "code",
      "source": [
        "model = Sequential()\n",
        "\n",
        "model.add(Conv2D(filters=64,kernel_size=(3,3),input_shape=(28,28,1),activation='relu'))\n",
        "model.add(MaxPooling2D(pool_size = (2,2)))\n",
        "model.add(Dropout(rate=0.3))\n",
        "model.add(Flatten())\n",
        "model.add(Dense(units=32, activation='relu'))\n",
        "model.add(Dense(units=10, activation='sigmoid'))\n",
        "model.compile(loss='sparse_categorical_crossentropy',optimizer='adam',metrics=['accuracy'])\n",
        "model.summary()"
      ],
      "metadata": {
        "colab": {
          "base_uri": "https://localhost:8080/"
        },
        "id": "xXJKlNG-MA7X",
        "outputId": "17663f95-8a76-433e-f57f-3973b40e0daa"
      },
      "execution_count": null,
      "outputs": [
        {
          "output_type": "stream",
          "name": "stdout",
          "text": [
            "Model: \"sequential_5\"\n",
            "_________________________________________________________________\n",
            " Layer (type)                Output Shape              Param #   \n",
            "=================================================================\n",
            " conv2d (Conv2D)             (None, 26, 26, 64)        640       \n",
            "                                                                 \n",
            " max_pooling2d (MaxPooling2D  (None, 13, 13, 64)       0         \n",
            " )                                                               \n",
            "                                                                 \n",
            " dropout (Dropout)           (None, 13, 13, 64)        0         \n",
            "                                                                 \n",
            " flatten (Flatten)           (None, 10816)             0         \n",
            "                                                                 \n",
            " dense (Dense)               (None, 32)                346144    \n",
            "                                                                 \n",
            " dense_1 (Dense)             (None, 10)                330       \n",
            "                                                                 \n",
            "=================================================================\n",
            "Total params: 347,114\n",
            "Trainable params: 347,114\n",
            "Non-trainable params: 0\n",
            "_________________________________________________________________\n"
          ]
        }
      ]
    },
    {
      "cell_type": "code",
      "source": [
        "model.fit(x_train,y_train,epochs=50,batch_size=1200,validation_split=0.05)"
      ],
      "metadata": {
        "colab": {
          "base_uri": "https://localhost:8080/"
        },
        "id": "ALL99ErvMO-r",
        "outputId": "64b85ddc-23b6-4615-b15d-88f7787d45d8"
      },
      "execution_count": null,
      "outputs": [
        {
          "output_type": "stream",
          "name": "stdout",
          "text": [
            "Epoch 1/50\n",
            "2/2 [==============================] - 5s 1s/step - loss: 2.2382 - accuracy: 0.1647 - val_loss: nan - val_accuracy: 0.4454\n",
            "Epoch 2/50\n",
            "2/2 [==============================] - 2s 884ms/step - loss: 1.9139 - accuracy: 0.4813 - val_loss: nan - val_accuracy: 0.5546\n",
            "Epoch 3/50\n",
            "2/2 [==============================] - 2s 886ms/step - loss: 1.6193 - accuracy: 0.5828 - val_loss: nan - val_accuracy: 0.5966\n",
            "Epoch 4/50\n",
            "2/2 [==============================] - 2s 825ms/step - loss: 1.3760 - accuracy: 0.6086 - val_loss: nan - val_accuracy: 0.6050\n",
            "Epoch 5/50\n",
            "2/2 [==============================] - 3s 1s/step - loss: 1.1787 - accuracy: 0.6429 - val_loss: nan - val_accuracy: 0.6639\n",
            "Epoch 6/50\n",
            "2/2 [==============================] - 5s 2s/step - loss: 1.0182 - accuracy: 0.6772 - val_loss: nan - val_accuracy: 0.7059\n",
            "Epoch 7/50\n",
            "2/2 [==============================] - 3s 1s/step - loss: 0.9001 - accuracy: 0.7182 - val_loss: nan - val_accuracy: 0.6975\n",
            "Epoch 8/50\n",
            "2/2 [==============================] - 2s 1s/step - loss: 0.8164 - accuracy: 0.7315 - val_loss: nan - val_accuracy: 0.6975\n",
            "Epoch 9/50\n",
            "2/2 [==============================] - 4s 2s/step - loss: 0.7521 - accuracy: 0.7409 - val_loss: nan - val_accuracy: 0.7143\n",
            "Epoch 10/50\n",
            "2/2 [==============================] - 4s 1s/step - loss: 0.7096 - accuracy: 0.7435 - val_loss: nan - val_accuracy: 0.7311\n",
            "Epoch 11/50\n",
            "2/2 [==============================] - 4s 2s/step - loss: 0.6736 - accuracy: 0.7458 - val_loss: nan - val_accuracy: 0.7311\n",
            "Epoch 12/50\n",
            "2/2 [==============================] - 3s 1s/step - loss: 0.6508 - accuracy: 0.7600 - val_loss: nan - val_accuracy: 0.7479\n",
            "Epoch 13/50\n",
            "2/2 [==============================] - 4s 2s/step - loss: 0.6279 - accuracy: 0.7707 - val_loss: nan - val_accuracy: 0.7563\n",
            "Epoch 14/50\n",
            "2/2 [==============================] - 2s 928ms/step - loss: 0.6072 - accuracy: 0.7787 - val_loss: nan - val_accuracy: 0.7563\n",
            "Epoch 15/50\n",
            "2/2 [==============================] - 2s 858ms/step - loss: 0.5909 - accuracy: 0.7778 - val_loss: nan - val_accuracy: 0.7815\n",
            "Epoch 16/50\n",
            "2/2 [==============================] - 2s 856ms/step - loss: 0.5704 - accuracy: 0.7841 - val_loss: nan - val_accuracy: 0.7647\n",
            "Epoch 17/50\n",
            "2/2 [==============================] - 2s 872ms/step - loss: 0.5514 - accuracy: 0.7925 - val_loss: nan - val_accuracy: 0.7815\n",
            "Epoch 18/50\n",
            "2/2 [==============================] - 3s 2s/step - loss: 0.5323 - accuracy: 0.7925 - val_loss: nan - val_accuracy: 0.7899\n",
            "Epoch 19/50\n",
            "2/2 [==============================] - 3s 891ms/step - loss: 0.5235 - accuracy: 0.8041 - val_loss: nan - val_accuracy: 0.7815\n",
            "Epoch 20/50\n",
            "2/2 [==============================] - 2s 860ms/step - loss: 0.5022 - accuracy: 0.8134 - val_loss: nan - val_accuracy: 0.7983\n",
            "Epoch 21/50\n",
            "2/2 [==============================] - 2s 851ms/step - loss: 0.4957 - accuracy: 0.8143 - val_loss: nan - val_accuracy: 0.7983\n",
            "Epoch 22/50\n",
            "2/2 [==============================] - 2s 891ms/step - loss: 0.4854 - accuracy: 0.8241 - val_loss: nan - val_accuracy: 0.7815\n",
            "Epoch 23/50\n",
            "2/2 [==============================] - 2s 989ms/step - loss: 0.4672 - accuracy: 0.8308 - val_loss: nan - val_accuracy: 0.7899\n",
            "Epoch 24/50\n",
            "2/2 [==============================] - 4s 2s/step - loss: 0.4672 - accuracy: 0.8290 - val_loss: nan - val_accuracy: 0.8067\n",
            "Epoch 25/50\n",
            "2/2 [==============================] - 3s 1s/step - loss: 0.4516 - accuracy: 0.8290 - val_loss: nan - val_accuracy: 0.8151\n",
            "Epoch 26/50\n",
            "2/2 [==============================] - 2s 842ms/step - loss: 0.4413 - accuracy: 0.8353 - val_loss: nan - val_accuracy: 0.8235\n",
            "Epoch 27/50\n",
            "2/2 [==============================] - 2s 1s/step - loss: 0.4370 - accuracy: 0.8370 - val_loss: nan - val_accuracy: 0.8067\n",
            "Epoch 28/50\n",
            "2/2 [==============================] - 3s 1s/step - loss: 0.4261 - accuracy: 0.8446 - val_loss: nan - val_accuracy: 0.8067\n",
            "Epoch 29/50\n",
            "2/2 [==============================] - 4s 2s/step - loss: 0.4134 - accuracy: 0.8531 - val_loss: nan - val_accuracy: 0.8571\n",
            "Epoch 30/50\n",
            "2/2 [==============================] - 2s 856ms/step - loss: 0.4105 - accuracy: 0.8535 - val_loss: nan - val_accuracy: 0.8151\n",
            "Epoch 31/50\n",
            "2/2 [==============================] - 2s 867ms/step - loss: 0.3992 - accuracy: 0.8553 - val_loss: nan - val_accuracy: 0.8151\n",
            "Epoch 32/50\n",
            "2/2 [==============================] - 2s 920ms/step - loss: 0.4024 - accuracy: 0.8504 - val_loss: nan - val_accuracy: 0.8151\n",
            "Epoch 33/50\n",
            "2/2 [==============================] - 2s 1s/step - loss: 0.3993 - accuracy: 0.8557 - val_loss: nan - val_accuracy: 0.8235\n",
            "Epoch 34/50\n",
            "2/2 [==============================] - 5s 3s/step - loss: 0.3895 - accuracy: 0.8535 - val_loss: nan - val_accuracy: 0.8067\n",
            "Epoch 35/50\n",
            "2/2 [==============================] - 7s 3s/step - loss: 0.3814 - accuracy: 0.8664 - val_loss: nan - val_accuracy: 0.8151\n",
            "Epoch 36/50\n",
            "2/2 [==============================] - 4s 2s/step - loss: 0.3756 - accuracy: 0.8638 - val_loss: nan - val_accuracy: 0.8319\n",
            "Epoch 37/50\n",
            "2/2 [==============================] - 7s 2s/step - loss: 0.3777 - accuracy: 0.8651 - val_loss: nan - val_accuracy: 0.8151\n",
            "Epoch 38/50\n",
            "2/2 [==============================] - 4s 2s/step - loss: 0.3670 - accuracy: 0.8669 - val_loss: nan - val_accuracy: 0.8235\n",
            "Epoch 39/50\n",
            "2/2 [==============================] - 5s 3s/step - loss: 0.3600 - accuracy: 0.8718 - val_loss: nan - val_accuracy: 0.8235\n",
            "Epoch 40/50\n",
            "2/2 [==============================] - 4s 2s/step - loss: 0.3594 - accuracy: 0.8669 - val_loss: nan - val_accuracy: 0.8235\n",
            "Epoch 41/50\n",
            "2/2 [==============================] - 3s 892ms/step - loss: 0.3450 - accuracy: 0.8785 - val_loss: nan - val_accuracy: 0.8235\n",
            "Epoch 42/50\n",
            "2/2 [==============================] - 2s 957ms/step - loss: 0.3399 - accuracy: 0.8833 - val_loss: nan - val_accuracy: 0.8235\n",
            "Epoch 43/50\n",
            "2/2 [==============================] - 3s 2s/step - loss: 0.3375 - accuracy: 0.8789 - val_loss: nan - val_accuracy: 0.8319\n",
            "Epoch 44/50\n",
            "2/2 [==============================] - 2s 858ms/step - loss: 0.3325 - accuracy: 0.8847 - val_loss: nan - val_accuracy: 0.8067\n",
            "Epoch 45/50\n",
            "2/2 [==============================] - 2s 876ms/step - loss: 0.3271 - accuracy: 0.8807 - val_loss: nan - val_accuracy: 0.8235\n",
            "Epoch 46/50\n",
            "2/2 [==============================] - 2s 844ms/step - loss: 0.3275 - accuracy: 0.8833 - val_loss: nan - val_accuracy: 0.8235\n",
            "Epoch 47/50\n",
            "2/2 [==============================] - 2s 885ms/step - loss: 0.3209 - accuracy: 0.8842 - val_loss: nan - val_accuracy: 0.8235\n",
            "Epoch 48/50\n",
            "2/2 [==============================] - 2s 922ms/step - loss: 0.3148 - accuracy: 0.8900 - val_loss: nan - val_accuracy: 0.8319\n",
            "Epoch 49/50\n",
            "2/2 [==============================] - 2s 1s/step - loss: 0.3108 - accuracy: 0.8927 - val_loss: nan - val_accuracy: 0.8235\n",
            "Epoch 50/50\n",
            "2/2 [==============================] - 2s 927ms/step - loss: 0.3087 - accuracy: 0.8896 - val_loss: nan - val_accuracy: 0.8235\n"
          ]
        },
        {
          "output_type": "execute_result",
          "data": {
            "text/plain": [
              "<keras.callbacks.History at 0x7f97f93b5840>"
            ]
          },
          "metadata": {},
          "execution_count": 84
        }
      ]
    },
    {
      "cell_type": "code",
      "source": [
        "evaluation = model.evaluate(x_test,y_test)"
      ],
      "metadata": {
        "colab": {
          "base_uri": "https://localhost:8080/"
        },
        "id": "_S8CPX9zMUpi",
        "outputId": "d3e2180d-1a32-4ae3-a883-41b9933f6025"
      },
      "execution_count": null,
      "outputs": [
        {
          "output_type": "stream",
          "name": "stdout",
          "text": [
            "74/74 [==============================] - 1s 12ms/step - loss: nan - accuracy: 0.8375\n"
          ]
        }
      ]
    },
    {
      "cell_type": "code",
      "source": [
        "print(f\"Accuracy: {evaluation[1]}\")"
      ],
      "metadata": {
        "colab": {
          "base_uri": "https://localhost:8080/"
        },
        "id": "FK8FqD0JMWp6",
        "outputId": "6cd59f52-b94b-4355-a63c-4caf1ad00f4d"
      },
      "execution_count": null,
      "outputs": [
        {
          "output_type": "stream",
          "name": "stdout",
          "text": [
            "Accuracy: 0.8375052809715271\n"
          ]
        }
      ]
    },
    {
      "cell_type": "code",
      "source": [
        "y_probas = model.predict(x_test)"
      ],
      "metadata": {
        "colab": {
          "base_uri": "https://localhost:8080/"
        },
        "id": "6tEQ-2QkMbVH",
        "outputId": "0f10897f-69e7-405b-a8ea-e6d49acb8290"
      },
      "execution_count": null,
      "outputs": [
        {
          "output_type": "stream",
          "name": "stdout",
          "text": [
            "74/74 [==============================] - 1s 9ms/step\n"
          ]
        }
      ]
    },
    {
      "cell_type": "code",
      "source": [
        "y_pred = y_probas.argmax(axis=-1) #IMP"
      ],
      "metadata": {
        "id": "c6oJCnxnMhTt"
      },
      "execution_count": null,
      "outputs": []
    },
    {
      "cell_type": "code",
      "source": [
        "y_pred"
      ],
      "metadata": {
        "colab": {
          "base_uri": "https://localhost:8080/"
        },
        "id": "2-0pe__lMif5",
        "outputId": "79b1fa67-acd4-4de7-ec63-1a57174b7bcb"
      },
      "execution_count": null,
      "outputs": [
        {
          "output_type": "execute_result",
          "data": {
            "text/plain": [
              "array([0, 1, 2, ..., 3, 6, 0])"
            ]
          },
          "metadata": {},
          "execution_count": 89
        }
      ]
    },
    {
      "cell_type": "code",
      "source": [
        "plt.figure(figsize=(10,10),)\n",
        "for i in range(25):\n",
        "    plt.subplot(5,5,i+1)\n",
        "    plt.xticks([])\n",
        "    plt.yticks([])\n",
        "    plt.grid(False)\n",
        "    plt.imshow(x_test[i], cmap=plt.cm.binary)\n",
        "#     plt.xlabel(f\"True Class:{y_test[i]}\")\n",
        "    plt.title(f\"Pred:{class_names[y_pred[i]]}\")\n",
        "plt.show()"
      ],
      "metadata": {
        "colab": {
          "base_uri": "https://localhost:8080/",
          "height": 829
        },
        "id": "c0YKE8c8Mm5j",
        "outputId": "d85f098f-3301-451b-835b-9c3f42278443"
      },
      "execution_count": null,
      "outputs": [
        {
          "output_type": "display_data",
          "data": {
            "text/plain": [
              "<Figure size 1000x1000 with 25 Axes>"
            ],
            "image/png": "[encoded data removed]"
          },
          "metadata": {}
        }
      ]
    },
    {
      "cell_type": "code",
      "source": [
        "from sklearn.metrics import classification_report"
      ],
      "metadata": {
        "id": "iwFhPiyYMn2O"
      },
      "execution_count": null,
      "outputs": []
    },
    {
      "cell_type": "code",
      "source": [
        "num_classes = 10\n",
        "class_names = [\"class {}\".format(i) for i in range(num_classes)]\n",
        "cr = classification_report(y_test, y_pred, target_names=class_names)\n",
        "# cr = classification_report(y_text, y_pred, target_names=[\"class 0\", \"class 1\",...,\"class 9\"])\n",
        "print(cr)"
      ],
      "metadata": {
        "colab": {
          "base_uri": "https://localhost:8080/"
        },
        "id": "fE0zHelfMsYV",
        "outputId": "b20e1948-d49b-4621-b936-8a6f520fa05e"
      },
      "execution_count": null,
      "outputs": [
        {
          "output_type": "stream",
          "name": "stdout",
          "text": [
            "              precision    recall  f1-score   support\n",
            "\n",
            "     class 0       0.81      0.79      0.80       235\n",
            "     class 1       1.00      0.95      0.97       216\n",
            "     class 2       0.72      0.71      0.72       238\n",
            "     class 3       0.90      0.87      0.89       249\n",
            "     class 4       0.70      0.82      0.76       233\n",
            "     class 5       0.94      0.89      0.92       236\n",
            "     class 6       0.64      0.60      0.62       250\n",
            "     class 7       0.89      0.87      0.88       232\n",
            "     class 8       0.94      0.93      0.94       229\n",
            "     class 9       0.88      0.95      0.91       239\n",
            "\n",
            "    accuracy                           0.84      2357\n",
            "   macro avg       0.84      0.84      0.84      2357\n",
            "weighted avg       0.84      0.84      0.84      2357\n",
            "\n"
          ]
        }
      ]
    },
    {
      "cell_type": "markdown",
      "source": [
        "ASSIGNMENT 3"
      ],
      "metadata": {
        "id": "PIrEn8O1NXB9"
      }
    },
    {
      "cell_type": "code",
      "source": [
        "import pandas as pd\n",
        "import numpy as np\n",
        "from sklearn.preprocessing import MinMaxScaler\n",
        "#from tensorflow.keras.layers import SimpleRNN, Dense\n",
        "import matplotlib.pyplot as plt\n"
      ],
      "metadata": {
        "id": "VzxNdyiDNU-3"
      },
      "execution_count": 32,
      "outputs": []
    },
    {
      "cell_type": "code",
      "source": [
        "train_df = pd.read_csv('/content/Google_Stock_Price_Train.csv')\n",
        "train_df.info()"
      ],
      "metadata": {
        "colab": {
          "base_uri": "https://localhost:8080/"
        },
        "id": "xjaeAfLmNr4Y",
        "outputId": "ffb30101-4806-4cc2-f5dc-2896563d0598"
      },
      "execution_count": 33,
      "outputs": [
        {
          "output_type": "stream",
          "name": "stdout",
          "text": [
            "<class 'pandas.core.frame.DataFrame'>\n",
            "RangeIndex: 1258 entries, 0 to 1257\n",
            "Data columns (total 6 columns):\n",
            " #   Column  Non-Null Count  Dtype  \n",
            "---  ------  --------------  -----  \n",
            " 0   Date    1258 non-null   object \n",
            " 1   Open    1258 non-null   float64\n",
            " 2   High    1258 non-null   float64\n",
            " 3   Low     1258 non-null   float64\n",
            " 4   Close   1258 non-null   object \n",
            " 5   Volume  1258 non-null   object \n",
            "dtypes: float64(3), object(3)\n",
            "memory usage: 59.1+ KB\n"
          ]
        }
      ]
    },
    {
      "cell_type": "code",
      "source": [
        "test_df = pd.read_csv('/content/Google_Stock_Price_Test.csv')\n",
        "test_df.info()"
      ],
      "metadata": {
        "colab": {
          "base_uri": "https://localhost:8080/"
        },
        "id": "JSjpVNy2N-Fs",
        "outputId": "712c8503-ca83-4908-b365-22ad00ea6d2e"
      },
      "execution_count": 34,
      "outputs": [
        {
          "output_type": "stream",
          "name": "stdout",
          "text": [
            "<class 'pandas.core.frame.DataFrame'>\n",
            "RangeIndex: 20 entries, 0 to 19\n",
            "Data columns (total 6 columns):\n",
            " #   Column  Non-Null Count  Dtype  \n",
            "---  ------  --------------  -----  \n",
            " 0   Date    20 non-null     object \n",
            " 1   Open    20 non-null     float64\n",
            " 2   High    20 non-null     float64\n",
            " 3   Low     20 non-null     float64\n",
            " 4   Close   20 non-null     float64\n",
            " 5   Volume  20 non-null     object \n",
            "dtypes: float64(4), object(2)\n",
            "memory usage: 1.1+ KB\n"
          ]
        }
      ]
    },
    {
      "cell_type": "code",
      "source": [
        "# Extract the 'Open' prices\n",
        "prices = train_df['Open'].values"
      ],
      "metadata": {
        "id": "57f1Nh9tOGak"
      },
      "execution_count": 35,
      "outputs": []
    },
    {
      "cell_type": "code",
      "source": [
        "# Perform data scaling\n",
        "scaler = MinMaxScaler()\n",
        "scaled_prices = scaler.fit_transform(prices.reshape(-1, 1))\n"
      ],
      "metadata": {
        "id": "6Dx2bfCWOKMN"
      },
      "execution_count": 36,
      "outputs": []
    },
    {
      "cell_type": "code",
      "source": [
        "train_size = int(len(scaled_prices) * 0.8)\n",
        "train_data = scaled_prices[:train_size]\n",
        "test_data = scaled_prices[train_size:]"
      ],
      "metadata": {
        "id": "vYrQ7JBdOLNX"
      },
      "execution_count": 37,
      "outputs": []
    },
    {
      "cell_type": "code",
      "source": [
        "# Define the function to create input-output pairs\n",
        "def create_sequences(data, seq_length):\n",
        "    x = []\n",
        "    y = []\n",
        "    for i in range(len(data) - seq_length):\n",
        "        x.append(data[i:i+seq_length])\n",
        "        y.append(data[i+seq_length])\n",
        "    return np.array(x), np.array(y)\n"
      ],
      "metadata": {
        "id": "fOHSs5ZIOOEA"
      },
      "execution_count": 38,
      "outputs": []
    },
    {
      "cell_type": "code",
      "source": [
        "# Set the sequence length\n",
        "sequence_length = 60\n"
      ],
      "metadata": {
        "id": "Tk2fQ42dP6q2"
      },
      "execution_count": 39,
      "outputs": []
    },
    {
      "cell_type": "code",
      "source": [
        "# Create training sequences\n",
        "x_train, y_train = create_sequences(train_data, sequence_length)\n"
      ],
      "metadata": {
        "id": "-5-h1w4nP7ik"
      },
      "execution_count": 40,
      "outputs": []
    },
    {
      "cell_type": "code",
      "source": [
        "# Create testing sequences\n",
        "x_test, y_test = create_sequences(test_data, sequence_length)\n"
      ],
      "metadata": {
        "id": "3vNCgqClP-0Z"
      },
      "execution_count": 41,
      "outputs": []
    },
    {
      "cell_type": "code",
      "source": [
        "from keras.models import Sequential\n",
        "from keras.layers import SimpleRNN, Dense"
      ],
      "metadata": {
        "id": "3r4mg5EIaqe1"
      },
      "execution_count": 43,
      "outputs": []
    },
    {
      "cell_type": "code",
      "source": [
        "# Build the RNN model\n",
        "model = Sequential()\n",
        "model.add(SimpleRNN(units=50, activation='tanh', input_shape=(sequence_length, 1)))\n",
        "model.add(Dense(units=1))\n",
        "model.compile(optimizer='adam', loss='mean_squared_error')\n"
      ],
      "metadata": {
        "id": "bZaqfN_cP_0p"
      },
      "execution_count": 45,
      "outputs": []
    },
    {
      "cell_type": "code",
      "source": [
        "# Train the model\n",
        "model.fit(x_train, y_train, epochs=10, batch_size=32)\n"
      ],
      "metadata": {
        "colab": {
          "base_uri": "https://localhost:8080/"
        },
        "id": "3XEG0b3cQCoB",
        "outputId": "5f26aceb-4f82-4c57-bece-748703fa7c43"
      },
      "execution_count": 46,
      "outputs": [
        {
          "output_type": "stream",
          "name": "stdout",
          "text": [
            "Epoch 1/10\n",
            "30/30 [==============================] - 4s 36ms/step - loss: 0.0236\n",
            "Epoch 2/10\n",
            "30/30 [==============================] - 1s 36ms/step - loss: 0.0023\n",
            "Epoch 3/10\n",
            "30/30 [==============================] - 1s 31ms/step - loss: 0.0014\n",
            "Epoch 4/10\n",
            "30/30 [==============================] - 1s 36ms/step - loss: 0.0011\n",
            "Epoch 5/10\n",
            "30/30 [==============================] - 1s 26ms/step - loss: 0.0010\n",
            "Epoch 6/10\n",
            "30/30 [==============================] - 1s 28ms/step - loss: 9.3810e-04\n",
            "Epoch 7/10\n",
            "30/30 [==============================] - 1s 22ms/step - loss: 8.6772e-04\n",
            "Epoch 8/10\n",
            "30/30 [==============================] - 0s 12ms/step - loss: 8.0364e-04\n",
            "Epoch 9/10\n",
            "30/30 [==============================] - 0s 13ms/step - loss: 7.6466e-04\n",
            "Epoch 10/10\n",
            "30/30 [==============================] - 0s 14ms/step - loss: 7.4595e-04\n"
          ]
        },
        {
          "output_type": "execute_result",
          "data": {
            "text/plain": [
              "<keras.callbacks.History at 0x7f8810ca1210>"
            ]
          },
          "metadata": {},
          "execution_count": 46
        }
      ]
    },
    {
      "cell_type": "code",
      "source": [
        "# Evaluate the model\n",
        "loss = model.evaluate(x_test, y_test)\n",
        "print('Test Loss:', loss)"
      ],
      "metadata": {
        "colab": {
          "base_uri": "https://localhost:8080/"
        },
        "id": "aJmLWFQRQIqN",
        "outputId": "db41d57d-831a-4a51-840d-2b785ded25d4"
      },
      "execution_count": 47,
      "outputs": [
        {
          "output_type": "stream",
          "name": "stdout",
          "text": [
            "6/6 [==============================] - 0s 5ms/step - loss: 0.0011\n",
            "Test Loss: 0.0011015230556949973\n"
          ]
        }
      ]
    },
    {
      "cell_type": "code",
      "source": [
        "# Make predictions\n",
        "predicted_prices = model.predict(x_test)\n",
        "predicted_prices = scaler.inverse_transform(predicted_prices)\n",
        "# y_pred = model.predict(x_test)\n",
        "# y_pred = scaler.inverse_transform(y_pred)\n"
      ],
      "metadata": {
        "colab": {
          "base_uri": "https://localhost:8080/"
        },
        "id": "mLkkcFQfQFYQ",
        "outputId": "e5448040-1ed1-49c0-89b2-f15e4aa9996f"
      },
      "execution_count": 48,
      "outputs": [
        {
          "output_type": "stream",
          "name": "stdout",
          "text": [
            "6/6 [==============================] - 0s 6ms/step\n"
          ]
        }
      ]
    },
    {
      "cell_type": "code",
      "source": [
        "# Plot the results\n",
        "plt.figure(figsize=(12, 6))\n",
        "plt.plot(prices[train_size + sequence_length:], color='red', label='Actual Price')\n",
        "plt.plot(predicted_prices, color='blue', label='Predicted Price')\n",
        "plt.title('Google Stock Price Prediction')\n",
        "plt.xlabel('Time')\n",
        "plt.ylabel('Price')\n",
        "plt.legend()\n",
        "plt.show()\n"
      ],
      "metadata": {
        "colab": {
          "base_uri": "https://localhost:8080/",
          "height": 564
        },
        "id": "lENQTYy8OSTA",
        "outputId": "c05850a1-0b67-43b7-9580-1096ddcd8031"
      },
      "execution_count": 49,
      "outputs": [
        {
          "output_type": "display_data",
          "data": {
            "text/plain": [
              "<Figure size 1200x600 with 1 Axes>"
            ],
            "image/png": "[encoded data removed]"
          },
          "metadata": {}
        }
      ]
    }
  ]
}